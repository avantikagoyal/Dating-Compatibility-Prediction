{
 "cells": [
  {
   "cell_type": "markdown",
   "metadata": {},
   "source": [
    "# COGS 108 - Determining Factors That Predict Dating Compatibility"
   ]
  },
  {
   "cell_type": "markdown",
   "metadata": {},
   "source": [
    "# Permissions"
   ]
  },
  {
   "cell_type": "markdown",
   "metadata": {},
   "source": [
    "Place an `X` in the appropriate bracket below to specify if you would like your group's project to be made available to the public. (Note that student names will be included (but PIDs will be scraped from any groups who include their PIDs).\n",
    "\n",
    "* [__X__] YES - make available\n",
    "* [  ] NO - keep private"
   ]
  },
  {
   "cell_type": "markdown",
   "metadata": {},
   "source": [
    "# Overview"
   ]
  },
  {
   "cell_type": "markdown",
   "metadata": {},
   "source": [
    "What are the factors that are the most important in determining a match between a pair in their 20s in early stages? We have found that, in successfully matched pairs, there are attributes that seem to have some significance, and is different from pairs who did not end up matching. However, when we tried to use these attributes to see if we can predict matches, we were mostly unsuccessful, indicating that while pairs who matched may have certain characteristics, those same characteristics cannot accurately predict whether a pair will match or not."
   ]
  },
  {
   "cell_type": "markdown",
   "metadata": {},
   "source": [
    "# Names\n",
    "\n",
    "- Avantika Goyal\n",
    "- Akhilan Gurumoorthy\n",
    "- Derek Ma\n",
    "- Weston Yang\n",
    "- Yu Huang"
   ]
  },
  {
   "cell_type": "markdown",
   "metadata": {},
   "source": [
    "<a id='research_question'></a>\n",
    "# Research Question"
   ]
  },
  {
   "cell_type": "markdown",
   "metadata": {},
   "source": [
    "What factors are most important in determining a match/compatibility between two individuals in their 20s in the early stages of meeting?"
   ]
  },
  {
   "cell_type": "markdown",
   "metadata": {},
   "source": [
    "# Background and Prior Work"
   ]
  },
  {
   "cell_type": "markdown",
   "metadata": {},
   "source": [
    "\n",
    "As people enter early adulthood in their 20s, many seek out romantic relationships and hope to find a significant other to journey with them through life. In romantic relationships, compatibility is one of the most essential factors—but what determines compatibility? For two individuals in their 20s, determining compatibility is a complex challenge: factors such as age, shared interests, preference in race, humor, ambition—to name a few, are all contributors that determine compatibility for two people in a relationship, and the overwhelming amount of factors involved is what makes determining compatibility so complex.\n",
    "\n",
    "This research project aims to explore some of these factors in determining compatibility by looking at how well different factors predict matches in partners by using a variety of different statistical and data analysis techniques on a speed dating dataset. This dataset contains data for age, race, interests, and self-ratings for two people who went on a speed date, as well as information on what both people thought of the date. The overall idea is to see whether or not certain factors about these potential pairings are able to correlate or predict whether the pair ended up in a match or not.\n",
    "\n",
    "In a 2019 Pew Research Center survey of American adults, responses show that a difference in religion, race, ethnicity, and income are generally not major dealbreakers in dating and relationships. In fact, 77%+ responders said they were open to dating (or have already dated) someone who differs from them on these characteristics [1]. \n",
    "\n",
    "In another study conducted by Columbia professors Ray Fisman and Sheena Iyengar, results indicated differences between the genders regarding what they prioritize when dating. They found that “women put greater weight on the intelligence and the race of partner, while men respond more to physical attractiveness. Moreover, men do not value women’s intelligence or ambition when it exceeds their own” [2]. This seems somewhat consistent with traditional gender stereotypes and suggests that when we carry out our project, we should segment the data by gender to achieve more meaningful results. \n",
    "\n",
    "[1]: Amanda Borroso. (2020, August 21). Key takeaways on Americans’ views of and experiences with dating and relationships. Pew Research Center. https://www.pewresearch.org/fact-tank/2020/08/20/key-takeaways-on-americans-views-of-and-experiences-with-dating-and-relationships/\n",
    "\n",
    "[2]: Fisman, R., Iyengar, S. S., Kamenica, E., & Simonson, I. (2006). Gender differences in mate selection: Evidence from a speed dating experiment. The Quarterly Journal of Economics, 121(2), 673-697. https://doi.org/10.1162/qjec.2006.121.2.673"
   ]
  },
  {
   "cell_type": "markdown",
   "metadata": {},
   "source": [
    "# Hypothesis"
   ]
  },
  {
   "cell_type": "markdown",
   "metadata": {},
   "source": [
    "Our hypothesis is that within the 20-30s age group, the main factors contributing to a match after a speed date lasting a couple minutes between two people are [‘attractiveness’ and ‘shared interests’]. We believe that this is the case since the first impression between 2 people is very important, and in the speed date, there is only a few minutes to talk, so attractiveness and the topics both people find interesting during the short time will greatly impact their impression of each other. Many other attributes such as sincerity, intelligence, etc cannot properly be judged with just a few minutes of talking, and factors such as age and race likely matter less for younger people. "
   ]
  },
  {
   "cell_type": "markdown",
   "metadata": {},
   "source": [
    "# Data"
   ]
  },
  {
   "cell_type": "markdown",
   "metadata": {},
   "source": [
    "Dataset Name: Speed Dating\n",
    "\n",
    "Link to Dataset: https://www.kaggle.com/datasets/ulrikthygepedersen/speed-dating\n",
    "\n",
    "Number of Observations: 8378\n",
    "\n",
    "This dataset has over 100 columns each representing an attribute that the speed daters found important, and each row represents a single speed dater’s data, which does match with our ideal pretty well. Our dataset has over 8000 observations on a speed date participant’s opinion towards their partner and what they believe were important after a date that were made over the years 2002-2004, for people who were aged 18-55, though the majority were in the 20-30 year old range. It is a little old and has some noise that has to be trimmed out, but it should work. The data was collected through a questionnaire given after a 4 minute date, where they are asked whether they would date the other person again, how they would rate their date across 6 attributes, and also other data collected from the participant like age, habits, and lifestyle. This should be a decent way of collecting and storing, as the survey right after the date should reflect their impression of the other person well, and it is stored in a database too."
   ]
  },
  {
   "cell_type": "markdown",
   "metadata": {},
   "source": [
    "# Setup"
   ]
  },
  {
   "cell_type": "code",
   "execution_count": 1,
   "metadata": {},
   "outputs": [],
   "source": [
    "import pandas as pd\n",
    "import numpy as np\n",
    "import matplotlib.pyplot as plt\n",
    "import seaborn as sns\n",
    "import scipy.stats as stats"
   ]
  },
  {
   "cell_type": "code",
   "execution_count": 2,
   "metadata": {},
   "outputs": [
    {
     "data": {
      "text/html": [
       "<div>\n",
       "<style scoped>\n",
       "    .dataframe tbody tr th:only-of-type {\n",
       "        vertical-align: middle;\n",
       "    }\n",
       "\n",
       "    .dataframe tbody tr th {\n",
       "        vertical-align: top;\n",
       "    }\n",
       "\n",
       "    .dataframe thead th {\n",
       "        text-align: right;\n",
       "    }\n",
       "</style>\n",
       "<table border=\"1\" class=\"dataframe\">\n",
       "  <thead>\n",
       "    <tr style=\"text-align: right;\">\n",
       "      <th></th>\n",
       "      <th>has_null</th>\n",
       "      <th>wave</th>\n",
       "      <th>gender</th>\n",
       "      <th>age</th>\n",
       "      <th>age_o</th>\n",
       "      <th>d_age</th>\n",
       "      <th>d_d_age</th>\n",
       "      <th>race</th>\n",
       "      <th>race_o</th>\n",
       "      <th>samerace</th>\n",
       "      <th>...</th>\n",
       "      <th>d_expected_num_interested_in_me</th>\n",
       "      <th>d_expected_num_matches</th>\n",
       "      <th>like</th>\n",
       "      <th>guess_prob_liked</th>\n",
       "      <th>d_like</th>\n",
       "      <th>d_guess_prob_liked</th>\n",
       "      <th>met</th>\n",
       "      <th>decision</th>\n",
       "      <th>decision_o</th>\n",
       "      <th>match</th>\n",
       "    </tr>\n",
       "  </thead>\n",
       "  <tbody>\n",
       "    <tr>\n",
       "      <th>0</th>\n",
       "      <td>b''</td>\n",
       "      <td>1.0</td>\n",
       "      <td>b'female'</td>\n",
       "      <td>21.0</td>\n",
       "      <td>27.0</td>\n",
       "      <td>6.0</td>\n",
       "      <td>b'[4-6]'</td>\n",
       "      <td>b'Asian/Pacific Islander/Asian-American'</td>\n",
       "      <td>b'European/Caucasian-American'</td>\n",
       "      <td>b'0'</td>\n",
       "      <td>...</td>\n",
       "      <td>b'[0-3]'</td>\n",
       "      <td>b'[3-5]'</td>\n",
       "      <td>7.0</td>\n",
       "      <td>6.0</td>\n",
       "      <td>b'[6-8]'</td>\n",
       "      <td>b'[5-6]'</td>\n",
       "      <td>0.0</td>\n",
       "      <td>b'1'</td>\n",
       "      <td>b'0'</td>\n",
       "      <td>b'0'</td>\n",
       "    </tr>\n",
       "    <tr>\n",
       "      <th>1</th>\n",
       "      <td>b''</td>\n",
       "      <td>1.0</td>\n",
       "      <td>b'female'</td>\n",
       "      <td>21.0</td>\n",
       "      <td>22.0</td>\n",
       "      <td>1.0</td>\n",
       "      <td>b'[0-1]'</td>\n",
       "      <td>b'Asian/Pacific Islander/Asian-American'</td>\n",
       "      <td>b'European/Caucasian-American'</td>\n",
       "      <td>b'0'</td>\n",
       "      <td>...</td>\n",
       "      <td>b'[0-3]'</td>\n",
       "      <td>b'[3-5]'</td>\n",
       "      <td>7.0</td>\n",
       "      <td>5.0</td>\n",
       "      <td>b'[6-8]'</td>\n",
       "      <td>b'[5-6]'</td>\n",
       "      <td>1.0</td>\n",
       "      <td>b'1'</td>\n",
       "      <td>b'0'</td>\n",
       "      <td>b'0'</td>\n",
       "    </tr>\n",
       "    <tr>\n",
       "      <th>2</th>\n",
       "      <td>b''</td>\n",
       "      <td>1.0</td>\n",
       "      <td>b'female'</td>\n",
       "      <td>21.0</td>\n",
       "      <td>22.0</td>\n",
       "      <td>1.0</td>\n",
       "      <td>b'[0-1]'</td>\n",
       "      <td>b'Asian/Pacific Islander/Asian-American'</td>\n",
       "      <td>b'Asian/Pacific Islander/Asian-American'</td>\n",
       "      <td>b'1'</td>\n",
       "      <td>...</td>\n",
       "      <td>b'[0-3]'</td>\n",
       "      <td>b'[3-5]'</td>\n",
       "      <td>7.0</td>\n",
       "      <td>NaN</td>\n",
       "      <td>b'[6-8]'</td>\n",
       "      <td>b'[0-4]'</td>\n",
       "      <td>1.0</td>\n",
       "      <td>b'1'</td>\n",
       "      <td>b'1'</td>\n",
       "      <td>b'1'</td>\n",
       "    </tr>\n",
       "    <tr>\n",
       "      <th>3</th>\n",
       "      <td>b''</td>\n",
       "      <td>1.0</td>\n",
       "      <td>b'female'</td>\n",
       "      <td>21.0</td>\n",
       "      <td>23.0</td>\n",
       "      <td>2.0</td>\n",
       "      <td>b'[2-3]'</td>\n",
       "      <td>b'Asian/Pacific Islander/Asian-American'</td>\n",
       "      <td>b'European/Caucasian-American'</td>\n",
       "      <td>b'0'</td>\n",
       "      <td>...</td>\n",
       "      <td>b'[0-3]'</td>\n",
       "      <td>b'[3-5]'</td>\n",
       "      <td>7.0</td>\n",
       "      <td>6.0</td>\n",
       "      <td>b'[6-8]'</td>\n",
       "      <td>b'[5-6]'</td>\n",
       "      <td>0.0</td>\n",
       "      <td>b'1'</td>\n",
       "      <td>b'1'</td>\n",
       "      <td>b'1'</td>\n",
       "    </tr>\n",
       "    <tr>\n",
       "      <th>4</th>\n",
       "      <td>b''</td>\n",
       "      <td>1.0</td>\n",
       "      <td>b'female'</td>\n",
       "      <td>21.0</td>\n",
       "      <td>24.0</td>\n",
       "      <td>3.0</td>\n",
       "      <td>b'[2-3]'</td>\n",
       "      <td>b'Asian/Pacific Islander/Asian-American'</td>\n",
       "      <td>b'Latino/Hispanic American'</td>\n",
       "      <td>b'0'</td>\n",
       "      <td>...</td>\n",
       "      <td>b'[0-3]'</td>\n",
       "      <td>b'[3-5]'</td>\n",
       "      <td>6.0</td>\n",
       "      <td>6.0</td>\n",
       "      <td>b'[6-8]'</td>\n",
       "      <td>b'[5-6]'</td>\n",
       "      <td>0.0</td>\n",
       "      <td>b'1'</td>\n",
       "      <td>b'1'</td>\n",
       "      <td>b'1'</td>\n",
       "    </tr>\n",
       "  </tbody>\n",
       "</table>\n",
       "<p>5 rows × 123 columns</p>\n",
       "</div>"
      ],
      "text/plain": [
       "  has_null  wave     gender   age  age_o  d_age   d_d_age  \\\n",
       "0      b''   1.0  b'female'  21.0   27.0    6.0  b'[4-6]'   \n",
       "1      b''   1.0  b'female'  21.0   22.0    1.0  b'[0-1]'   \n",
       "2      b''   1.0  b'female'  21.0   22.0    1.0  b'[0-1]'   \n",
       "3      b''   1.0  b'female'  21.0   23.0    2.0  b'[2-3]'   \n",
       "4      b''   1.0  b'female'  21.0   24.0    3.0  b'[2-3]'   \n",
       "\n",
       "                                       race  \\\n",
       "0  b'Asian/Pacific Islander/Asian-American'   \n",
       "1  b'Asian/Pacific Islander/Asian-American'   \n",
       "2  b'Asian/Pacific Islander/Asian-American'   \n",
       "3  b'Asian/Pacific Islander/Asian-American'   \n",
       "4  b'Asian/Pacific Islander/Asian-American'   \n",
       "\n",
       "                                     race_o samerace  ...  \\\n",
       "0            b'European/Caucasian-American'     b'0'  ...   \n",
       "1            b'European/Caucasian-American'     b'0'  ...   \n",
       "2  b'Asian/Pacific Islander/Asian-American'     b'1'  ...   \n",
       "3            b'European/Caucasian-American'     b'0'  ...   \n",
       "4               b'Latino/Hispanic American'     b'0'  ...   \n",
       "\n",
       "   d_expected_num_interested_in_me  d_expected_num_matches like  \\\n",
       "0                         b'[0-3]'                b'[3-5]'  7.0   \n",
       "1                         b'[0-3]'                b'[3-5]'  7.0   \n",
       "2                         b'[0-3]'                b'[3-5]'  7.0   \n",
       "3                         b'[0-3]'                b'[3-5]'  7.0   \n",
       "4                         b'[0-3]'                b'[3-5]'  6.0   \n",
       "\n",
       "  guess_prob_liked    d_like  d_guess_prob_liked  met  decision  decision_o  \\\n",
       "0              6.0  b'[6-8]'            b'[5-6]'  0.0      b'1'        b'0'   \n",
       "1              5.0  b'[6-8]'            b'[5-6]'  1.0      b'1'        b'0'   \n",
       "2              NaN  b'[6-8]'            b'[0-4]'  1.0      b'1'        b'1'   \n",
       "3              6.0  b'[6-8]'            b'[5-6]'  0.0      b'1'        b'1'   \n",
       "4              6.0  b'[6-8]'            b'[5-6]'  0.0      b'1'        b'1'   \n",
       "\n",
       "   match  \n",
       "0   b'0'  \n",
       "1   b'0'  \n",
       "2   b'1'  \n",
       "3   b'1'  \n",
       "4   b'1'  \n",
       "\n",
       "[5 rows x 123 columns]"
      ]
     },
     "execution_count": 2,
     "metadata": {},
     "output_type": "execute_result"
    }
   ],
   "source": [
    "df = pd.read_csv('speeddating.csv')\n",
    "df.head()"
   ]
  },
  {
   "cell_type": "markdown",
   "metadata": {},
   "source": [
    "# Data Cleaning"
   ]
  },
  {
   "cell_type": "code",
   "execution_count": 3,
   "metadata": {},
   "outputs": [
    {
     "data": {
      "text/plain": [
       "has_null                0\n",
       "wave                    0\n",
       "gender                  0\n",
       "age                    95\n",
       "age_o                 104\n",
       "                     ... \n",
       "d_guess_prob_liked      0\n",
       "met                   375\n",
       "decision                0\n",
       "decision_o              0\n",
       "match                   0\n",
       "Length: 123, dtype: int64"
      ]
     },
     "execution_count": 3,
     "metadata": {},
     "output_type": "execute_result"
    }
   ],
   "source": [
    "# Finding null values\n",
    "df.isnull().sum()"
   ]
  },
  {
   "cell_type": "code",
   "execution_count": 4,
   "metadata": {},
   "outputs": [
    {
     "data": {
      "text/html": [
       "<div>\n",
       "<style scoped>\n",
       "    .dataframe tbody tr th:only-of-type {\n",
       "        vertical-align: middle;\n",
       "    }\n",
       "\n",
       "    .dataframe tbody tr th {\n",
       "        vertical-align: top;\n",
       "    }\n",
       "\n",
       "    .dataframe thead th {\n",
       "        text-align: right;\n",
       "    }\n",
       "</style>\n",
       "<table border=\"1\" class=\"dataframe\">\n",
       "  <thead>\n",
       "    <tr style=\"text-align: right;\">\n",
       "      <th></th>\n",
       "      <th>has_null</th>\n",
       "      <th>wave</th>\n",
       "      <th>gender</th>\n",
       "      <th>age</th>\n",
       "      <th>age_o</th>\n",
       "      <th>d_age</th>\n",
       "      <th>d_d_age</th>\n",
       "      <th>race</th>\n",
       "      <th>race_o</th>\n",
       "      <th>samerace</th>\n",
       "      <th>...</th>\n",
       "      <th>d_expected_num_interested_in_me</th>\n",
       "      <th>d_expected_num_matches</th>\n",
       "      <th>like</th>\n",
       "      <th>guess_prob_liked</th>\n",
       "      <th>d_like</th>\n",
       "      <th>d_guess_prob_liked</th>\n",
       "      <th>met</th>\n",
       "      <th>decision</th>\n",
       "      <th>decision_o</th>\n",
       "      <th>match</th>\n",
       "    </tr>\n",
       "  </thead>\n",
       "  <tbody>\n",
       "    <tr>\n",
       "      <th>0</th>\n",
       "      <td>''</td>\n",
       "      <td>1.0</td>\n",
       "      <td>'female'</td>\n",
       "      <td>21.0</td>\n",
       "      <td>27.0</td>\n",
       "      <td>6.0</td>\n",
       "      <td>'[4-6]'</td>\n",
       "      <td>'Asian/Pacific Islander/Asian-American'</td>\n",
       "      <td>'European/Caucasian-American'</td>\n",
       "      <td>'0'</td>\n",
       "      <td>...</td>\n",
       "      <td>'[0-3]'</td>\n",
       "      <td>'[3-5]'</td>\n",
       "      <td>7.0</td>\n",
       "      <td>6.0</td>\n",
       "      <td>'[6-8]'</td>\n",
       "      <td>'[5-6]'</td>\n",
       "      <td>0.0</td>\n",
       "      <td>'1'</td>\n",
       "      <td>'0'</td>\n",
       "      <td>'0'</td>\n",
       "    </tr>\n",
       "    <tr>\n",
       "      <th>1</th>\n",
       "      <td>''</td>\n",
       "      <td>1.0</td>\n",
       "      <td>'female'</td>\n",
       "      <td>21.0</td>\n",
       "      <td>22.0</td>\n",
       "      <td>1.0</td>\n",
       "      <td>'[0-1]'</td>\n",
       "      <td>'Asian/Pacific Islander/Asian-American'</td>\n",
       "      <td>'European/Caucasian-American'</td>\n",
       "      <td>'0'</td>\n",
       "      <td>...</td>\n",
       "      <td>'[0-3]'</td>\n",
       "      <td>'[3-5]'</td>\n",
       "      <td>7.0</td>\n",
       "      <td>5.0</td>\n",
       "      <td>'[6-8]'</td>\n",
       "      <td>'[5-6]'</td>\n",
       "      <td>1.0</td>\n",
       "      <td>'1'</td>\n",
       "      <td>'0'</td>\n",
       "      <td>'0'</td>\n",
       "    </tr>\n",
       "    <tr>\n",
       "      <th>2</th>\n",
       "      <td>''</td>\n",
       "      <td>1.0</td>\n",
       "      <td>'female'</td>\n",
       "      <td>21.0</td>\n",
       "      <td>22.0</td>\n",
       "      <td>1.0</td>\n",
       "      <td>'[0-1]'</td>\n",
       "      <td>'Asian/Pacific Islander/Asian-American'</td>\n",
       "      <td>'Asian/Pacific Islander/Asian-American'</td>\n",
       "      <td>'1'</td>\n",
       "      <td>...</td>\n",
       "      <td>'[0-3]'</td>\n",
       "      <td>'[3-5]'</td>\n",
       "      <td>7.0</td>\n",
       "      <td>NaN</td>\n",
       "      <td>'[6-8]'</td>\n",
       "      <td>'[0-4]'</td>\n",
       "      <td>1.0</td>\n",
       "      <td>'1'</td>\n",
       "      <td>'1'</td>\n",
       "      <td>'1'</td>\n",
       "    </tr>\n",
       "    <tr>\n",
       "      <th>3</th>\n",
       "      <td>''</td>\n",
       "      <td>1.0</td>\n",
       "      <td>'female'</td>\n",
       "      <td>21.0</td>\n",
       "      <td>23.0</td>\n",
       "      <td>2.0</td>\n",
       "      <td>'[2-3]'</td>\n",
       "      <td>'Asian/Pacific Islander/Asian-American'</td>\n",
       "      <td>'European/Caucasian-American'</td>\n",
       "      <td>'0'</td>\n",
       "      <td>...</td>\n",
       "      <td>'[0-3]'</td>\n",
       "      <td>'[3-5]'</td>\n",
       "      <td>7.0</td>\n",
       "      <td>6.0</td>\n",
       "      <td>'[6-8]'</td>\n",
       "      <td>'[5-6]'</td>\n",
       "      <td>0.0</td>\n",
       "      <td>'1'</td>\n",
       "      <td>'1'</td>\n",
       "      <td>'1'</td>\n",
       "    </tr>\n",
       "    <tr>\n",
       "      <th>4</th>\n",
       "      <td>''</td>\n",
       "      <td>1.0</td>\n",
       "      <td>'female'</td>\n",
       "      <td>21.0</td>\n",
       "      <td>24.0</td>\n",
       "      <td>3.0</td>\n",
       "      <td>'[2-3]'</td>\n",
       "      <td>'Asian/Pacific Islander/Asian-American'</td>\n",
       "      <td>'Latino/Hispanic American'</td>\n",
       "      <td>'0'</td>\n",
       "      <td>...</td>\n",
       "      <td>'[0-3]'</td>\n",
       "      <td>'[3-5]'</td>\n",
       "      <td>6.0</td>\n",
       "      <td>6.0</td>\n",
       "      <td>'[6-8]'</td>\n",
       "      <td>'[5-6]'</td>\n",
       "      <td>0.0</td>\n",
       "      <td>'1'</td>\n",
       "      <td>'1'</td>\n",
       "      <td>'1'</td>\n",
       "    </tr>\n",
       "  </tbody>\n",
       "</table>\n",
       "<p>5 rows × 123 columns</p>\n",
       "</div>"
      ],
      "text/plain": [
       "  has_null  wave    gender   age  age_o  d_age  d_d_age  \\\n",
       "0       ''   1.0  'female'  21.0   27.0    6.0  '[4-6]'   \n",
       "1       ''   1.0  'female'  21.0   22.0    1.0  '[0-1]'   \n",
       "2       ''   1.0  'female'  21.0   22.0    1.0  '[0-1]'   \n",
       "3       ''   1.0  'female'  21.0   23.0    2.0  '[2-3]'   \n",
       "4       ''   1.0  'female'  21.0   24.0    3.0  '[2-3]'   \n",
       "\n",
       "                                      race  \\\n",
       "0  'Asian/Pacific Islander/Asian-American'   \n",
       "1  'Asian/Pacific Islander/Asian-American'   \n",
       "2  'Asian/Pacific Islander/Asian-American'   \n",
       "3  'Asian/Pacific Islander/Asian-American'   \n",
       "4  'Asian/Pacific Islander/Asian-American'   \n",
       "\n",
       "                                    race_o samerace  ...  \\\n",
       "0            'European/Caucasian-American'      '0'  ...   \n",
       "1            'European/Caucasian-American'      '0'  ...   \n",
       "2  'Asian/Pacific Islander/Asian-American'      '1'  ...   \n",
       "3            'European/Caucasian-American'      '0'  ...   \n",
       "4               'Latino/Hispanic American'      '0'  ...   \n",
       "\n",
       "   d_expected_num_interested_in_me  d_expected_num_matches like  \\\n",
       "0                          '[0-3]'                 '[3-5]'  7.0   \n",
       "1                          '[0-3]'                 '[3-5]'  7.0   \n",
       "2                          '[0-3]'                 '[3-5]'  7.0   \n",
       "3                          '[0-3]'                 '[3-5]'  7.0   \n",
       "4                          '[0-3]'                 '[3-5]'  6.0   \n",
       "\n",
       "  guess_prob_liked   d_like  d_guess_prob_liked  met  decision  decision_o  \\\n",
       "0              6.0  '[6-8]'             '[5-6]'  0.0       '1'         '0'   \n",
       "1              5.0  '[6-8]'             '[5-6]'  1.0       '1'         '0'   \n",
       "2              NaN  '[6-8]'             '[0-4]'  1.0       '1'         '1'   \n",
       "3              6.0  '[6-8]'             '[5-6]'  0.0       '1'         '1'   \n",
       "4              6.0  '[6-8]'             '[5-6]'  0.0       '1'         '1'   \n",
       "\n",
       "   match  \n",
       "0    '0'  \n",
       "1    '0'  \n",
       "2    '1'  \n",
       "3    '1'  \n",
       "4    '1'  \n",
       "\n",
       "[5 rows x 123 columns]"
      ]
     },
     "execution_count": 4,
     "metadata": {},
     "output_type": "execute_result"
    }
   ],
   "source": [
    "# Clean the column that has character \"b\" in front of string value\n",
    "\n",
    "def remove_char_b(col):\n",
    "    return col.replace(\"b\",'')\n",
    "\n",
    "temp_df = df.select_dtypes(include = ['object'])\n",
    "\n",
    "for col in temp_df.columns:\n",
    "    df[col] = df[col].apply(lambda x: remove_char_b(x))\n",
    "\n",
    "df.head()"
   ]
  },
  {
   "cell_type": "code",
   "execution_count": 5,
   "metadata": {},
   "outputs": [
    {
     "data": {
      "text/html": [
       "<div>\n",
       "<style scoped>\n",
       "    .dataframe tbody tr th:only-of-type {\n",
       "        vertical-align: middle;\n",
       "    }\n",
       "\n",
       "    .dataframe tbody tr th {\n",
       "        vertical-align: top;\n",
       "    }\n",
       "\n",
       "    .dataframe thead th {\n",
       "        text-align: right;\n",
       "    }\n",
       "</style>\n",
       "<table border=\"1\" class=\"dataframe\">\n",
       "  <thead>\n",
       "    <tr style=\"text-align: right;\">\n",
       "      <th></th>\n",
       "      <th>has_null</th>\n",
       "      <th>wave</th>\n",
       "      <th>gender</th>\n",
       "      <th>age</th>\n",
       "      <th>age_o</th>\n",
       "      <th>d_age</th>\n",
       "      <th>d_d_age</th>\n",
       "      <th>race</th>\n",
       "      <th>race_o</th>\n",
       "      <th>samerace</th>\n",
       "      <th>...</th>\n",
       "      <th>d_expected_num_interested_in_me</th>\n",
       "      <th>d_expected_num_matches</th>\n",
       "      <th>like</th>\n",
       "      <th>guess_prob_liked</th>\n",
       "      <th>d_like</th>\n",
       "      <th>d_guess_prob_liked</th>\n",
       "      <th>met</th>\n",
       "      <th>decision</th>\n",
       "      <th>decision_o</th>\n",
       "      <th>match</th>\n",
       "    </tr>\n",
       "  </thead>\n",
       "  <tbody>\n",
       "    <tr>\n",
       "      <th>0</th>\n",
       "      <td></td>\n",
       "      <td>1.0</td>\n",
       "      <td>female</td>\n",
       "      <td>21.0</td>\n",
       "      <td>27.0</td>\n",
       "      <td>6.0</td>\n",
       "      <td>[4-6]</td>\n",
       "      <td>Asian/Pacific Islander/Asian-American</td>\n",
       "      <td>European/Caucasian-American</td>\n",
       "      <td>0</td>\n",
       "      <td>...</td>\n",
       "      <td>[0-3]</td>\n",
       "      <td>[3-5]</td>\n",
       "      <td>7.0</td>\n",
       "      <td>6.0</td>\n",
       "      <td>[6-8]</td>\n",
       "      <td>[5-6]</td>\n",
       "      <td>0.0</td>\n",
       "      <td>1</td>\n",
       "      <td>0</td>\n",
       "      <td>0</td>\n",
       "    </tr>\n",
       "    <tr>\n",
       "      <th>1</th>\n",
       "      <td></td>\n",
       "      <td>1.0</td>\n",
       "      <td>female</td>\n",
       "      <td>21.0</td>\n",
       "      <td>22.0</td>\n",
       "      <td>1.0</td>\n",
       "      <td>[0-1]</td>\n",
       "      <td>Asian/Pacific Islander/Asian-American</td>\n",
       "      <td>European/Caucasian-American</td>\n",
       "      <td>0</td>\n",
       "      <td>...</td>\n",
       "      <td>[0-3]</td>\n",
       "      <td>[3-5]</td>\n",
       "      <td>7.0</td>\n",
       "      <td>5.0</td>\n",
       "      <td>[6-8]</td>\n",
       "      <td>[5-6]</td>\n",
       "      <td>1.0</td>\n",
       "      <td>1</td>\n",
       "      <td>0</td>\n",
       "      <td>0</td>\n",
       "    </tr>\n",
       "    <tr>\n",
       "      <th>2</th>\n",
       "      <td></td>\n",
       "      <td>1.0</td>\n",
       "      <td>female</td>\n",
       "      <td>21.0</td>\n",
       "      <td>22.0</td>\n",
       "      <td>1.0</td>\n",
       "      <td>[0-1]</td>\n",
       "      <td>Asian/Pacific Islander/Asian-American</td>\n",
       "      <td>Asian/Pacific Islander/Asian-American</td>\n",
       "      <td>1</td>\n",
       "      <td>...</td>\n",
       "      <td>[0-3]</td>\n",
       "      <td>[3-5]</td>\n",
       "      <td>7.0</td>\n",
       "      <td>NaN</td>\n",
       "      <td>[6-8]</td>\n",
       "      <td>[0-4]</td>\n",
       "      <td>1.0</td>\n",
       "      <td>1</td>\n",
       "      <td>1</td>\n",
       "      <td>1</td>\n",
       "    </tr>\n",
       "    <tr>\n",
       "      <th>3</th>\n",
       "      <td></td>\n",
       "      <td>1.0</td>\n",
       "      <td>female</td>\n",
       "      <td>21.0</td>\n",
       "      <td>23.0</td>\n",
       "      <td>2.0</td>\n",
       "      <td>[2-3]</td>\n",
       "      <td>Asian/Pacific Islander/Asian-American</td>\n",
       "      <td>European/Caucasian-American</td>\n",
       "      <td>0</td>\n",
       "      <td>...</td>\n",
       "      <td>[0-3]</td>\n",
       "      <td>[3-5]</td>\n",
       "      <td>7.0</td>\n",
       "      <td>6.0</td>\n",
       "      <td>[6-8]</td>\n",
       "      <td>[5-6]</td>\n",
       "      <td>0.0</td>\n",
       "      <td>1</td>\n",
       "      <td>1</td>\n",
       "      <td>1</td>\n",
       "    </tr>\n",
       "    <tr>\n",
       "      <th>4</th>\n",
       "      <td></td>\n",
       "      <td>1.0</td>\n",
       "      <td>female</td>\n",
       "      <td>21.0</td>\n",
       "      <td>24.0</td>\n",
       "      <td>3.0</td>\n",
       "      <td>[2-3]</td>\n",
       "      <td>Asian/Pacific Islander/Asian-American</td>\n",
       "      <td>Latino/Hispanic American</td>\n",
       "      <td>0</td>\n",
       "      <td>...</td>\n",
       "      <td>[0-3]</td>\n",
       "      <td>[3-5]</td>\n",
       "      <td>6.0</td>\n",
       "      <td>6.0</td>\n",
       "      <td>[6-8]</td>\n",
       "      <td>[5-6]</td>\n",
       "      <td>0.0</td>\n",
       "      <td>1</td>\n",
       "      <td>1</td>\n",
       "      <td>1</td>\n",
       "    </tr>\n",
       "  </tbody>\n",
       "</table>\n",
       "<p>5 rows × 123 columns</p>\n",
       "</div>"
      ],
      "text/plain": [
       "  has_null  wave  gender   age  age_o  d_age d_d_age  \\\n",
       "0            1.0  female  21.0   27.0    6.0   [4-6]   \n",
       "1            1.0  female  21.0   22.0    1.0   [0-1]   \n",
       "2            1.0  female  21.0   22.0    1.0   [0-1]   \n",
       "3            1.0  female  21.0   23.0    2.0   [2-3]   \n",
       "4            1.0  female  21.0   24.0    3.0   [2-3]   \n",
       "\n",
       "                                    race  \\\n",
       "0  Asian/Pacific Islander/Asian-American   \n",
       "1  Asian/Pacific Islander/Asian-American   \n",
       "2  Asian/Pacific Islander/Asian-American   \n",
       "3  Asian/Pacific Islander/Asian-American   \n",
       "4  Asian/Pacific Islander/Asian-American   \n",
       "\n",
       "                                  race_o samerace  ...  \\\n",
       "0            European/Caucasian-American        0  ...   \n",
       "1            European/Caucasian-American        0  ...   \n",
       "2  Asian/Pacific Islander/Asian-American        1  ...   \n",
       "3            European/Caucasian-American        0  ...   \n",
       "4               Latino/Hispanic American        0  ...   \n",
       "\n",
       "   d_expected_num_interested_in_me  d_expected_num_matches like  \\\n",
       "0                            [0-3]                   [3-5]  7.0   \n",
       "1                            [0-3]                   [3-5]  7.0   \n",
       "2                            [0-3]                   [3-5]  7.0   \n",
       "3                            [0-3]                   [3-5]  7.0   \n",
       "4                            [0-3]                   [3-5]  6.0   \n",
       "\n",
       "  guess_prob_liked d_like  d_guess_prob_liked  met  decision  decision_o  \\\n",
       "0              6.0  [6-8]               [5-6]  0.0         1           0   \n",
       "1              5.0  [6-8]               [5-6]  1.0         1           0   \n",
       "2              NaN  [6-8]               [0-4]  1.0         1           1   \n",
       "3              6.0  [6-8]               [5-6]  0.0         1           1   \n",
       "4              6.0  [6-8]               [5-6]  0.0         1           1   \n",
       "\n",
       "   match  \n",
       "0      0  \n",
       "1      0  \n",
       "2      1  \n",
       "3      1  \n",
       "4      1  \n",
       "\n",
       "[5 rows x 123 columns]"
      ]
     },
     "execution_count": 5,
     "metadata": {},
     "output_type": "execute_result"
    }
   ],
   "source": [
    "# Clean the column that has extra quotation marks\n",
    "\n",
    "def remove_quote(col):\n",
    "    return col.replace(\"'\",'')\n",
    "\n",
    "temp_df = df.select_dtypes(include = ['object'])\n",
    "\n",
    "for col in temp_df.columns:\n",
    "    df[col] = df[col].apply(lambda x: remove_quote(x))\n",
    "\n",
    "df.head()"
   ]
  },
  {
   "cell_type": "code",
   "execution_count": 6,
   "metadata": {},
   "outputs": [],
   "source": [
    "# drop has_null col\n",
    "df.drop(['has_null'], axis = 1, inplace= True)"
   ]
  },
  {
   "cell_type": "code",
   "execution_count": 7,
   "metadata": {},
   "outputs": [
    {
     "data": {
      "text/plain": [
       "expected_num_interested_in_me    0.785152\n",
       "expected_num_matches             0.140010\n",
       "shared_interests_o               0.128432\n",
       "shared_interests_partner         0.127357\n",
       "ambitous_o                       0.086178\n",
       "                                   ...   \n",
       "d_funny_important                0.000000\n",
       "d_intellicence_important         0.000000\n",
       "d_sincere_important              0.000000\n",
       "d_attractive_important           0.000000\n",
       "match                            0.000000\n",
       "Length: 122, dtype: float64"
      ]
     },
     "execution_count": 7,
     "metadata": {},
     "output_type": "execute_result"
    }
   ],
   "source": [
    "# Find columns' missing-value percentage\n",
    "df.isnull().mean().sort_values(ascending=False)"
   ]
  },
  {
   "cell_type": "code",
   "execution_count": 8,
   "metadata": {},
   "outputs": [],
   "source": [
    "# Drop columns that have more than 50% missing cells\n",
    "df.drop('expected_num_interested_in_me', axis=1, inplace=True)"
   ]
  },
  {
   "cell_type": "code",
   "execution_count": 9,
   "metadata": {},
   "outputs": [],
   "source": [
    "# Also dropping expected_num_matches here, because it's not tightly related to our research question.\n",
    "# we are hoping to find the correlation in between characteristics from the actual result collected,\n",
    "# instead of the expectation of the result.\n",
    "\n",
    "df.drop('expected_num_matches', axis=1, inplace=True)"
   ]
  },
  {
   "cell_type": "code",
   "execution_count": 10,
   "metadata": {},
   "outputs": [
    {
     "data": {
      "text/plain": [
       "shared_interests_o                 1076\n",
       "shared_interests_partner           1067\n",
       "ambitous_o                          722\n",
       "ambition_partner                    712\n",
       "met                                 375\n",
       "funny_o                             360\n",
       "funny_partner                       350\n",
       "guess_prob_liked                    309\n",
       "intelligence_o                      306\n",
       "intelligence_partner                296\n",
       "sinsere_o                           287\n",
       "sincere_partner                     277\n",
       "like                                240\n",
       "attractive_o                        212\n",
       "attractive_partner                  202\n",
       "interests_correlate                 158\n",
       "pref_o_shared_interests             129\n",
       "shared_interests_important          121\n",
       "pref_o_ambitious                    107\n",
       "sincere                             105\n",
       "intelligence                        105\n",
       "funny                               105\n",
       "ambition                            105\n",
       "attractive                          105\n",
       "age_o                               104\n",
       "expected_happy_with_sd_people       101\n",
       "ambtition_important                  99\n",
       "pref_o_funny                         98\n",
       "age                                  95\n",
       "funny_important                      89\n",
       "pref_o_intelligence                  89\n",
       "pref_o_sincere                       89\n",
       "pref_o_attractive                    89\n",
       "dining                               79\n",
       "yoga                                 79\n",
       "reading                              79\n",
       "tv                                   79\n",
       "theater                              79\n",
       "movies                               79\n",
       "shopping                             79\n",
       "exercise                             79\n",
       "sports                               79\n",
       "tvsports                             79\n",
       "hiking                               79\n",
       "art                                  79\n",
       "museums                              79\n",
       "music                                79\n",
       "concerts                             79\n",
       "intellicence_important               79\n",
       "gaming                               79\n",
       "clubbing                             79\n",
       "attractive_important                 79\n",
       "importance_same_race                 79\n",
       "importance_same_religion             79\n",
       "sincere_important                    79\n",
       "d_yoga                                0\n",
       "d_interests_correlate                 0\n",
       "d_expected_happy_with_sd_people       0\n",
       "d_expected_num_matches                0\n",
       "d_expected_num_interested_in_me       0\n",
       "d_music                               0\n",
       "d_like                                0\n",
       "d_guess_prob_liked                    0\n",
       "decision                              0\n",
       "decision_o                            0\n",
       "d_shopping                            0\n",
       "d_museums                             0\n",
       "d_concerts                            0\n",
       "d_art                                 0\n",
       "d_theater                             0\n",
       "d_tv                                  0\n",
       "d_sports                              0\n",
       "d_tvsports                            0\n",
       "d_exercise                            0\n",
       "d_dining                              0\n",
       "d_reading                             0\n",
       "d_clubbing                            0\n",
       "d_gaming                              0\n",
       "d_hiking                              0\n",
       "d_movies                              0\n",
       "wave                                  0\n",
       "d_shared_interests_partner            0\n",
       "d_pref_o_attractive                   0\n",
       "d_sinsere_o                           0\n",
       "d_attractive_o                        0\n",
       "d_pref_o_shared_interests             0\n",
       "d_pref_o_ambitious                    0\n",
       "d_pref_o_funny                        0\n",
       "d_pref_o_intelligence                 0\n",
       "d_pref_o_sincere                      0\n",
       "field                                 0\n",
       "d_funny_o                             0\n",
       "d_importance_same_religion            0\n",
       "d_importance_same_race                0\n",
       "samerace                              0\n",
       "race_o                                0\n",
       "race                                  0\n",
       "d_d_age                               0\n",
       "d_age                                 0\n",
       "d_intelligence_o                      0\n",
       "d_ambitous_o                          0\n",
       "d_ambition_partner                    0\n",
       "d_intelligence                        0\n",
       "d_funny_partner                       0\n",
       "d_intelligence_partner                0\n",
       "d_sincere_partner                     0\n",
       "d_attractive_partner                  0\n",
       "gender                                0\n",
       "d_ambition                            0\n",
       "d_funny                               0\n",
       "d_sincere                             0\n",
       "d_shared_interests_o                  0\n",
       "d_attractive                          0\n",
       "d_shared_interests_important          0\n",
       "d_ambtition_important                 0\n",
       "d_funny_important                     0\n",
       "d_intellicence_important              0\n",
       "d_sincere_important                   0\n",
       "d_attractive_important                0\n",
       "match                                 0\n",
       "dtype: int64"
      ]
     },
     "execution_count": 10,
     "metadata": {},
     "output_type": "execute_result"
    }
   ],
   "source": [
    "pd.set_option('display.max_rows', None)\n",
    "df.isnull().sum().sort_values(ascending=False)"
   ]
  },
  {
   "cell_type": "code",
   "execution_count": 11,
   "metadata": {},
   "outputs": [],
   "source": [
    "# Find all string/object cols\n",
    "df_string_cols = df.select_dtypes(include='object').columns\n",
    "\n",
    "# Find all numeric cols\n",
    "df_numeric_cols = df.select_dtypes(include='number').columns"
   ]
  },
  {
   "cell_type": "code",
   "execution_count": 12,
   "metadata": {},
   "outputs": [
    {
     "data": {
      "text/plain": [
       "(8378, 120)"
      ]
     },
     "execution_count": 12,
     "metadata": {},
     "output_type": "execute_result"
    }
   ],
   "source": [
    "df.shape"
   ]
  },
  {
   "cell_type": "code",
   "execution_count": 13,
   "metadata": {},
   "outputs": [
    {
     "data": {
      "text/plain": [
       "True"
      ]
     },
     "execution_count": 13,
     "metadata": {},
     "output_type": "execute_result"
    }
   ],
   "source": [
    "# Dataset only contains string/object and numeric values\n",
    "len(df_string_cols) + len(df_numeric_cols) == df.shape[1]"
   ]
  },
  {
   "cell_type": "code",
   "execution_count": 14,
   "metadata": {},
   "outputs": [
    {
     "data": {
      "text/plain": [
       "False"
      ]
     },
     "execution_count": 14,
     "metadata": {},
     "output_type": "execute_result"
    }
   ],
   "source": [
    "# Deal with string cols' missing value, and find out that string cols have no missing value\n",
    "df[df_string_cols].isnull().sum().any()"
   ]
  },
  {
   "cell_type": "code",
   "execution_count": 15,
   "metadata": {},
   "outputs": [
    {
     "data": {
      "text/plain": [
       "shared_interests_o               1076\n",
       "shared_interests_partner         1067\n",
       "ambitous_o                        722\n",
       "ambition_partner                  712\n",
       "met                               375\n",
       "funny_o                           360\n",
       "funny_partner                     350\n",
       "guess_prob_liked                  309\n",
       "intelligence_o                    306\n",
       "intelligence_partner              296\n",
       "sinsere_o                         287\n",
       "sincere_partner                   277\n",
       "like                              240\n",
       "attractive_o                      212\n",
       "attractive_partner                202\n",
       "interests_correlate               158\n",
       "pref_o_shared_interests           129\n",
       "shared_interests_important        121\n",
       "pref_o_ambitious                  107\n",
       "funny                             105\n",
       "intelligence                      105\n",
       "sincere                           105\n",
       "attractive                        105\n",
       "ambition                          105\n",
       "age_o                             104\n",
       "expected_happy_with_sd_people     101\n",
       "ambtition_important                99\n",
       "pref_o_funny                       98\n",
       "age                                95\n",
       "pref_o_sincere                     89\n",
       "funny_important                    89\n",
       "pref_o_attractive                  89\n",
       "pref_o_intelligence                89\n",
       "clubbing                           79\n",
       "yoga                               79\n",
       "shopping                           79\n",
       "music                              79\n",
       "concerts                           79\n",
       "movies                             79\n",
       "theater                            79\n",
       "importance_same_race               79\n",
       "tv                                 79\n",
       "reading                            79\n",
       "art                                79\n",
       "gaming                             79\n",
       "hiking                             79\n",
       "museums                            79\n",
       "dining                             79\n",
       "exercise                           79\n",
       "tvsports                           79\n",
       "sports                             79\n",
       "importance_same_religion           79\n",
       "attractive_important               79\n",
       "sincere_important                  79\n",
       "intellicence_important             79\n",
       "d_age                               0\n",
       "wave                                0\n",
       "dtype: int64"
      ]
     },
     "execution_count": 15,
     "metadata": {},
     "output_type": "execute_result"
    }
   ],
   "source": [
    "# Deal with numeric cols' missing value\n",
    "df[df_numeric_cols].isnull().sum().sort_values(ascending=False)"
   ]
  },
  {
   "cell_type": "code",
   "execution_count": 16,
   "metadata": {},
   "outputs": [
    {
     "data": {
      "text/plain": [
       "[]"
      ]
     },
     "execution_count": 16,
     "metadata": {},
     "output_type": "execute_result"
    }
   ],
   "source": [
    "# Find numeric cols that have binary-data (\"<=3\" because it may contain np.nan value)\n",
    "\n",
    "binary_cols = [col for col in df_numeric_cols if df[col].nunique() <= 3]\n",
    "binary_cols"
   ]
  },
  {
   "cell_type": "code",
   "execution_count": 17,
   "metadata": {},
   "outputs": [],
   "source": [
    "# Convert 'match' column into binary data\n",
    "df['match'] = df['match'].apply(pd.to_numeric)"
   ]
  },
  {
   "cell_type": "code",
   "execution_count": 18,
   "metadata": {},
   "outputs": [
    {
     "data": {
      "text/plain": [
       "array([ 0.,  1., nan,  3.,  5.,  7.,  8.,  6.])"
      ]
     },
     "execution_count": 18,
     "metadata": {},
     "output_type": "execute_result"
    }
   ],
   "source": [
    "# It's surprising that the 'met' column is not in binary_cols, thus look into it\n",
    "df['met'].unique()"
   ]
  },
  {
   "cell_type": "code",
   "execution_count": 19,
   "metadata": {},
   "outputs": [
    {
     "data": {
      "text/plain": [
       "(383, 120)"
      ]
     },
     "execution_count": 19,
     "metadata": {},
     "output_type": "execute_result"
    }
   ],
   "source": [
    "# Decide to drop those rows as they are meaningless data\n",
    "df[(df['met'] != 0) & (df['met'] != 1)].shape"
   ]
  },
  {
   "cell_type": "code",
   "execution_count": 20,
   "metadata": {},
   "outputs": [],
   "source": [
    "df = df[(df['met'] == 0) | (df['met'] == 1)]"
   ]
  },
  {
   "cell_type": "code",
   "execution_count": 21,
   "metadata": {},
   "outputs": [],
   "source": [
    "# Then for the rest of numeric columns, we decide to do mean-imputation\n",
    "df[df_numeric_cols] = df[df_numeric_cols].fillna(df[df_numeric_cols].mean())"
   ]
  },
  {
   "cell_type": "code",
   "execution_count": 22,
   "metadata": {},
   "outputs": [
    {
     "name": "stdout",
     "output_type": "stream",
     "text": [
      "There are no np.nan values in our dataset\n"
     ]
    }
   ],
   "source": [
    "# check if there are any NaN values in our dataset\n",
    "if df.isnull().any().any():\n",
    "    print(\"There are np.nan values in our dataset\")\n",
    "else:\n",
    "    print(\"There are no np.nan values in our dataset\")"
   ]
  },
  {
   "cell_type": "code",
   "execution_count": 23,
   "metadata": {},
   "outputs": [
    {
     "data": {
      "text/plain": [
       "(7995, 120)"
      ]
     },
     "execution_count": 23,
     "metadata": {},
     "output_type": "execute_result"
    }
   ],
   "source": [
    "df.shape"
   ]
  },
  {
   "cell_type": "markdown",
   "metadata": {},
   "source": [
    "### Simplifying Our Dataset"
   ]
  },
  {
   "cell_type": "markdown",
   "metadata": {},
   "source": [
    "After taking a closer look at the columns, we realized that many of our columns are redundant in the context of our research question and hypothesis. To reduce clutter in our dataset, cutting out any redundant and unuseful columns would be better for the sake of simplicity. Upon agreement, we decided to truncate columns given and only keep the following 21 columns in our dataframe, as we believe those are the features that matters the most to our target question."
   ]
  },
  {
   "cell_type": "code",
   "execution_count": 24,
   "metadata": {},
   "outputs": [],
   "source": [
    "columns = [\"gender\", \"age\", \"age_o\", \"d_age\", \"race\", \"race_o\", \"samerace\", \"field\", \"attractive\", \"sincere\",\n",
    "           \"intelligence\", \"funny\", \"ambition\", \"attractive_partner\", \"sincere_partner\", \"intelligence_partner\",\n",
    "           \"funny_partner\", \"ambition_partner\", \"interests_correlate\", \"match\", \"met\"]"
   ]
  },
  {
   "cell_type": "code",
   "execution_count": 25,
   "metadata": {},
   "outputs": [
    {
     "data": {
      "text/plain": [
       "21"
      ]
     },
     "execution_count": 25,
     "metadata": {},
     "output_type": "execute_result"
    }
   ],
   "source": [
    "len(columns)"
   ]
  },
  {
   "cell_type": "code",
   "execution_count": 26,
   "metadata": {},
   "outputs": [
    {
     "data": {
      "text/plain": [
       "(7995, 21)"
      ]
     },
     "execution_count": 26,
     "metadata": {},
     "output_type": "execute_result"
    }
   ],
   "source": [
    "# reducing our dataframe to the relavant columns\n",
    "\n",
    "df = df[columns]\n",
    "df.shape"
   ]
  },
  {
   "cell_type": "markdown",
   "metadata": {},
   "source": [
    "# Data Analysis & Results (EDA)"
   ]
  },
  {
   "cell_type": "code",
   "execution_count": 27,
   "metadata": {},
   "outputs": [
    {
     "data": {
      "text/html": [
       "<div>\n",
       "<style scoped>\n",
       "    .dataframe tbody tr th:only-of-type {\n",
       "        vertical-align: middle;\n",
       "    }\n",
       "\n",
       "    .dataframe tbody tr th {\n",
       "        vertical-align: top;\n",
       "    }\n",
       "\n",
       "    .dataframe thead th {\n",
       "        text-align: right;\n",
       "    }\n",
       "</style>\n",
       "<table border=\"1\" class=\"dataframe\">\n",
       "  <thead>\n",
       "    <tr style=\"text-align: right;\">\n",
       "      <th></th>\n",
       "      <th>gender</th>\n",
       "      <th>age</th>\n",
       "      <th>age_o</th>\n",
       "      <th>d_age</th>\n",
       "      <th>race</th>\n",
       "      <th>race_o</th>\n",
       "      <th>samerace</th>\n",
       "      <th>field</th>\n",
       "      <th>attractive</th>\n",
       "      <th>sincere</th>\n",
       "      <th>...</th>\n",
       "      <th>funny</th>\n",
       "      <th>ambition</th>\n",
       "      <th>attractive_partner</th>\n",
       "      <th>sincere_partner</th>\n",
       "      <th>intelligence_partner</th>\n",
       "      <th>funny_partner</th>\n",
       "      <th>ambition_partner</th>\n",
       "      <th>interests_correlate</th>\n",
       "      <th>match</th>\n",
       "      <th>met</th>\n",
       "    </tr>\n",
       "  </thead>\n",
       "  <tbody>\n",
       "    <tr>\n",
       "      <th>0</th>\n",
       "      <td>female</td>\n",
       "      <td>21.0</td>\n",
       "      <td>27.0</td>\n",
       "      <td>6.0</td>\n",
       "      <td>Asian/Pacific Islander/Asian-American</td>\n",
       "      <td>European/Caucasian-American</td>\n",
       "      <td>0</td>\n",
       "      <td>Law</td>\n",
       "      <td>6.0</td>\n",
       "      <td>8.0</td>\n",
       "      <td>...</td>\n",
       "      <td>8.0</td>\n",
       "      <td>7.0</td>\n",
       "      <td>6.0</td>\n",
       "      <td>9.0</td>\n",
       "      <td>7.0</td>\n",
       "      <td>7.0</td>\n",
       "      <td>6.00000</td>\n",
       "      <td>0.14</td>\n",
       "      <td>0</td>\n",
       "      <td>0.0</td>\n",
       "    </tr>\n",
       "    <tr>\n",
       "      <th>1</th>\n",
       "      <td>female</td>\n",
       "      <td>21.0</td>\n",
       "      <td>22.0</td>\n",
       "      <td>1.0</td>\n",
       "      <td>Asian/Pacific Islander/Asian-American</td>\n",
       "      <td>European/Caucasian-American</td>\n",
       "      <td>0</td>\n",
       "      <td>Law</td>\n",
       "      <td>6.0</td>\n",
       "      <td>8.0</td>\n",
       "      <td>...</td>\n",
       "      <td>8.0</td>\n",
       "      <td>7.0</td>\n",
       "      <td>7.0</td>\n",
       "      <td>8.0</td>\n",
       "      <td>7.0</td>\n",
       "      <td>8.0</td>\n",
       "      <td>5.00000</td>\n",
       "      <td>0.54</td>\n",
       "      <td>0</td>\n",
       "      <td>1.0</td>\n",
       "    </tr>\n",
       "    <tr>\n",
       "      <th>2</th>\n",
       "      <td>female</td>\n",
       "      <td>21.0</td>\n",
       "      <td>22.0</td>\n",
       "      <td>1.0</td>\n",
       "      <td>Asian/Pacific Islander/Asian-American</td>\n",
       "      <td>Asian/Pacific Islander/Asian-American</td>\n",
       "      <td>1</td>\n",
       "      <td>Law</td>\n",
       "      <td>6.0</td>\n",
       "      <td>8.0</td>\n",
       "      <td>...</td>\n",
       "      <td>8.0</td>\n",
       "      <td>7.0</td>\n",
       "      <td>5.0</td>\n",
       "      <td>8.0</td>\n",
       "      <td>9.0</td>\n",
       "      <td>8.0</td>\n",
       "      <td>5.00000</td>\n",
       "      <td>0.16</td>\n",
       "      <td>1</td>\n",
       "      <td>1.0</td>\n",
       "    </tr>\n",
       "    <tr>\n",
       "      <th>3</th>\n",
       "      <td>female</td>\n",
       "      <td>21.0</td>\n",
       "      <td>23.0</td>\n",
       "      <td>2.0</td>\n",
       "      <td>Asian/Pacific Islander/Asian-American</td>\n",
       "      <td>European/Caucasian-American</td>\n",
       "      <td>0</td>\n",
       "      <td>Law</td>\n",
       "      <td>6.0</td>\n",
       "      <td>8.0</td>\n",
       "      <td>...</td>\n",
       "      <td>8.0</td>\n",
       "      <td>7.0</td>\n",
       "      <td>7.0</td>\n",
       "      <td>6.0</td>\n",
       "      <td>8.0</td>\n",
       "      <td>7.0</td>\n",
       "      <td>6.00000</td>\n",
       "      <td>0.61</td>\n",
       "      <td>1</td>\n",
       "      <td>0.0</td>\n",
       "    </tr>\n",
       "    <tr>\n",
       "      <th>4</th>\n",
       "      <td>female</td>\n",
       "      <td>21.0</td>\n",
       "      <td>24.0</td>\n",
       "      <td>3.0</td>\n",
       "      <td>Asian/Pacific Islander/Asian-American</td>\n",
       "      <td>Latino/Hispanic American</td>\n",
       "      <td>0</td>\n",
       "      <td>Law</td>\n",
       "      <td>6.0</td>\n",
       "      <td>8.0</td>\n",
       "      <td>...</td>\n",
       "      <td>8.0</td>\n",
       "      <td>7.0</td>\n",
       "      <td>5.0</td>\n",
       "      <td>6.0</td>\n",
       "      <td>7.0</td>\n",
       "      <td>7.0</td>\n",
       "      <td>6.00000</td>\n",
       "      <td>0.21</td>\n",
       "      <td>1</td>\n",
       "      <td>0.0</td>\n",
       "    </tr>\n",
       "    <tr>\n",
       "      <th>...</th>\n",
       "      <td>...</td>\n",
       "      <td>...</td>\n",
       "      <td>...</td>\n",
       "      <td>...</td>\n",
       "      <td>...</td>\n",
       "      <td>...</td>\n",
       "      <td>...</td>\n",
       "      <td>...</td>\n",
       "      <td>...</td>\n",
       "      <td>...</td>\n",
       "      <td>...</td>\n",
       "      <td>...</td>\n",
       "      <td>...</td>\n",
       "      <td>...</td>\n",
       "      <td>...</td>\n",
       "      <td>...</td>\n",
       "      <td>...</td>\n",
       "      <td>...</td>\n",
       "      <td>...</td>\n",
       "      <td>...</td>\n",
       "      <td>...</td>\n",
       "    </tr>\n",
       "    <tr>\n",
       "      <th>8373</th>\n",
       "      <td>male</td>\n",
       "      <td>25.0</td>\n",
       "      <td>26.0</td>\n",
       "      <td>1.0</td>\n",
       "      <td>European/Caucasian-American</td>\n",
       "      <td>Latino/Hispanic American</td>\n",
       "      <td>0</td>\n",
       "      <td>Climate Dynamics</td>\n",
       "      <td>8.0</td>\n",
       "      <td>7.0</td>\n",
       "      <td>...</td>\n",
       "      <td>7.0</td>\n",
       "      <td>7.0</td>\n",
       "      <td>3.0</td>\n",
       "      <td>5.0</td>\n",
       "      <td>5.0</td>\n",
       "      <td>5.0</td>\n",
       "      <td>6.77639</td>\n",
       "      <td>0.64</td>\n",
       "      <td>0</td>\n",
       "      <td>0.0</td>\n",
       "    </tr>\n",
       "    <tr>\n",
       "      <th>8374</th>\n",
       "      <td>male</td>\n",
       "      <td>25.0</td>\n",
       "      <td>24.0</td>\n",
       "      <td>1.0</td>\n",
       "      <td>European/Caucasian-American</td>\n",
       "      <td>Other</td>\n",
       "      <td>0</td>\n",
       "      <td>Climate Dynamics</td>\n",
       "      <td>8.0</td>\n",
       "      <td>7.0</td>\n",
       "      <td>...</td>\n",
       "      <td>7.0</td>\n",
       "      <td>7.0</td>\n",
       "      <td>4.0</td>\n",
       "      <td>6.0</td>\n",
       "      <td>8.0</td>\n",
       "      <td>4.0</td>\n",
       "      <td>4.00000</td>\n",
       "      <td>0.71</td>\n",
       "      <td>0</td>\n",
       "      <td>0.0</td>\n",
       "    </tr>\n",
       "    <tr>\n",
       "      <th>8375</th>\n",
       "      <td>male</td>\n",
       "      <td>25.0</td>\n",
       "      <td>29.0</td>\n",
       "      <td>4.0</td>\n",
       "      <td>European/Caucasian-American</td>\n",
       "      <td>Latino/Hispanic American</td>\n",
       "      <td>0</td>\n",
       "      <td>Climate Dynamics</td>\n",
       "      <td>8.0</td>\n",
       "      <td>7.0</td>\n",
       "      <td>...</td>\n",
       "      <td>7.0</td>\n",
       "      <td>7.0</td>\n",
       "      <td>4.0</td>\n",
       "      <td>7.0</td>\n",
       "      <td>8.0</td>\n",
       "      <td>8.0</td>\n",
       "      <td>8.00000</td>\n",
       "      <td>-0.46</td>\n",
       "      <td>0</td>\n",
       "      <td>0.0</td>\n",
       "    </tr>\n",
       "    <tr>\n",
       "      <th>8376</th>\n",
       "      <td>male</td>\n",
       "      <td>25.0</td>\n",
       "      <td>22.0</td>\n",
       "      <td>3.0</td>\n",
       "      <td>European/Caucasian-American</td>\n",
       "      <td>Asian/Pacific Islander/Asian-American</td>\n",
       "      <td>0</td>\n",
       "      <td>Climate Dynamics</td>\n",
       "      <td>8.0</td>\n",
       "      <td>7.0</td>\n",
       "      <td>...</td>\n",
       "      <td>7.0</td>\n",
       "      <td>7.0</td>\n",
       "      <td>4.0</td>\n",
       "      <td>6.0</td>\n",
       "      <td>5.0</td>\n",
       "      <td>4.0</td>\n",
       "      <td>6.77639</td>\n",
       "      <td>0.62</td>\n",
       "      <td>0</td>\n",
       "      <td>0.0</td>\n",
       "    </tr>\n",
       "    <tr>\n",
       "      <th>8377</th>\n",
       "      <td>male</td>\n",
       "      <td>25.0</td>\n",
       "      <td>22.0</td>\n",
       "      <td>3.0</td>\n",
       "      <td>European/Caucasian-American</td>\n",
       "      <td>Asian/Pacific Islander/Asian-American</td>\n",
       "      <td>0</td>\n",
       "      <td>Climate Dynamics</td>\n",
       "      <td>8.0</td>\n",
       "      <td>7.0</td>\n",
       "      <td>...</td>\n",
       "      <td>7.0</td>\n",
       "      <td>7.0</td>\n",
       "      <td>3.0</td>\n",
       "      <td>7.0</td>\n",
       "      <td>6.0</td>\n",
       "      <td>4.0</td>\n",
       "      <td>8.00000</td>\n",
       "      <td>0.01</td>\n",
       "      <td>0</td>\n",
       "      <td>0.0</td>\n",
       "    </tr>\n",
       "  </tbody>\n",
       "</table>\n",
       "<p>7995 rows × 21 columns</p>\n",
       "</div>"
      ],
      "text/plain": [
       "      gender   age  age_o  d_age                                   race  \\\n",
       "0     female  21.0   27.0    6.0  Asian/Pacific Islander/Asian-American   \n",
       "1     female  21.0   22.0    1.0  Asian/Pacific Islander/Asian-American   \n",
       "2     female  21.0   22.0    1.0  Asian/Pacific Islander/Asian-American   \n",
       "3     female  21.0   23.0    2.0  Asian/Pacific Islander/Asian-American   \n",
       "4     female  21.0   24.0    3.0  Asian/Pacific Islander/Asian-American   \n",
       "...      ...   ...    ...    ...                                    ...   \n",
       "8373    male  25.0   26.0    1.0            European/Caucasian-American   \n",
       "8374    male  25.0   24.0    1.0            European/Caucasian-American   \n",
       "8375    male  25.0   29.0    4.0            European/Caucasian-American   \n",
       "8376    male  25.0   22.0    3.0            European/Caucasian-American   \n",
       "8377    male  25.0   22.0    3.0            European/Caucasian-American   \n",
       "\n",
       "                                     race_o samerace             field  \\\n",
       "0               European/Caucasian-American        0               Law   \n",
       "1               European/Caucasian-American        0               Law   \n",
       "2     Asian/Pacific Islander/Asian-American        1               Law   \n",
       "3               European/Caucasian-American        0               Law   \n",
       "4                  Latino/Hispanic American        0               Law   \n",
       "...                                     ...      ...               ...   \n",
       "8373               Latino/Hispanic American        0  Climate Dynamics   \n",
       "8374                                  Other        0  Climate Dynamics   \n",
       "8375               Latino/Hispanic American        0  Climate Dynamics   \n",
       "8376  Asian/Pacific Islander/Asian-American        0  Climate Dynamics   \n",
       "8377  Asian/Pacific Islander/Asian-American        0  Climate Dynamics   \n",
       "\n",
       "      attractive  sincere  ...  funny  ambition  attractive_partner  \\\n",
       "0            6.0      8.0  ...    8.0       7.0                 6.0   \n",
       "1            6.0      8.0  ...    8.0       7.0                 7.0   \n",
       "2            6.0      8.0  ...    8.0       7.0                 5.0   \n",
       "3            6.0      8.0  ...    8.0       7.0                 7.0   \n",
       "4            6.0      8.0  ...    8.0       7.0                 5.0   \n",
       "...          ...      ...  ...    ...       ...                 ...   \n",
       "8373         8.0      7.0  ...    7.0       7.0                 3.0   \n",
       "8374         8.0      7.0  ...    7.0       7.0                 4.0   \n",
       "8375         8.0      7.0  ...    7.0       7.0                 4.0   \n",
       "8376         8.0      7.0  ...    7.0       7.0                 4.0   \n",
       "8377         8.0      7.0  ...    7.0       7.0                 3.0   \n",
       "\n",
       "      sincere_partner  intelligence_partner  funny_partner  ambition_partner  \\\n",
       "0                 9.0                   7.0            7.0           6.00000   \n",
       "1                 8.0                   7.0            8.0           5.00000   \n",
       "2                 8.0                   9.0            8.0           5.00000   \n",
       "3                 6.0                   8.0            7.0           6.00000   \n",
       "4                 6.0                   7.0            7.0           6.00000   \n",
       "...               ...                   ...            ...               ...   \n",
       "8373              5.0                   5.0            5.0           6.77639   \n",
       "8374              6.0                   8.0            4.0           4.00000   \n",
       "8375              7.0                   8.0            8.0           8.00000   \n",
       "8376              6.0                   5.0            4.0           6.77639   \n",
       "8377              7.0                   6.0            4.0           8.00000   \n",
       "\n",
       "      interests_correlate  match  met  \n",
       "0                    0.14      0  0.0  \n",
       "1                    0.54      0  1.0  \n",
       "2                    0.16      1  1.0  \n",
       "3                    0.61      1  0.0  \n",
       "4                    0.21      1  0.0  \n",
       "...                   ...    ...  ...  \n",
       "8373                 0.64      0  0.0  \n",
       "8374                 0.71      0  0.0  \n",
       "8375                -0.46      0  0.0  \n",
       "8376                 0.62      0  0.0  \n",
       "8377                 0.01      0  0.0  \n",
       "\n",
       "[7995 rows x 21 columns]"
      ]
     },
     "execution_count": 27,
     "metadata": {},
     "output_type": "execute_result"
    }
   ],
   "source": [
    "pd.set_option('display.max_rows', 50)\n",
    "df"
   ]
  },
  {
   "cell_type": "markdown",
   "metadata": {},
   "source": [
    "### Analyze Age Distribution of Samples"
   ]
  },
  {
   "cell_type": "code",
   "execution_count": 28,
   "metadata": {},
   "outputs": [
    {
     "data": {
      "text/plain": [
       "(array([ 357., 3130., 3183.,  857.,  401.,   41.,   20.,    0.,    0.,\n",
       "           6.]),\n",
       " array([18. , 21.7, 25.4, 29.1, 32.8, 36.5, 40.2, 43.9, 47.6, 51.3, 55. ]),\n",
       " <BarContainer object of 10 artists>)"
      ]
     },
     "execution_count": 28,
     "metadata": {},
     "output_type": "execute_result"
    },
    {
     "data": {
      "image/png": "[encoded data removed]",
      "text/plain": [
       "<Figure size 432x288 with 1 Axes>"
      ]
     },
     "metadata": {
      "needs_background": "light"
     },
     "output_type": "display_data"
    }
   ],
   "source": [
    "plt.hist(df['age'], align='mid', edgecolor='black')"
   ]
  },
  {
   "cell_type": "markdown",
   "metadata": {},
   "source": [
    "From which we can see that majority of samples are within age 20-30. And we want to view stats of age across different genders. However, there are some outliers making this a right skewed unimodal data shape.\n",
    "\n",
    "We will clean up the data so only ages 20-30 are shown as per the hypothesis:"
   ]
  },
  {
   "cell_type": "code",
   "execution_count": 29,
   "metadata": {},
   "outputs": [
    {
     "data": {
      "text/plain": [
       "(array([  53.,  278.,  629.,  867.,  821.,  813.,  895., 1010.,  711.,\n",
       "        1100.]),\n",
       " array([20., 21., 22., 23., 24., 25., 26., 27., 28., 29., 30.]),\n",
       " <BarContainer object of 10 artists>)"
      ]
     },
     "execution_count": 29,
     "metadata": {},
     "output_type": "execute_result"
    },
    {
     "data": {
      "image/png": "[encoded data removed]",
      "text/plain": [
       "<Figure size 432x288 with 1 Axes>"
      ]
     },
     "metadata": {
      "needs_background": "light"
     },
     "output_type": "display_data"
    }
   ],
   "source": [
    "df_age_trimmed = df[(df['age'] >= 20) & (df['age'] <= 30)]\n",
    "plt.hist(df_age_trimmed['age'], align='mid', edgecolor='black')"
   ]
  },
  {
   "cell_type": "code",
   "execution_count": 30,
   "metadata": {},
   "outputs": [
    {
     "data": {
      "text/html": [
       "<div>\n",
       "<style scoped>\n",
       "    .dataframe tbody tr th:only-of-type {\n",
       "        vertical-align: middle;\n",
       "    }\n",
       "\n",
       "    .dataframe tbody tr th {\n",
       "        vertical-align: top;\n",
       "    }\n",
       "\n",
       "    .dataframe thead tr th {\n",
       "        text-align: left;\n",
       "    }\n",
       "\n",
       "    .dataframe thead tr:last-of-type th {\n",
       "        text-align: right;\n",
       "    }\n",
       "</style>\n",
       "<table border=\"1\" class=\"dataframe\">\n",
       "  <thead>\n",
       "    <tr>\n",
       "      <th></th>\n",
       "      <th>mean</th>\n",
       "      <th>median</th>\n",
       "    </tr>\n",
       "    <tr>\n",
       "      <th></th>\n",
       "      <th>age</th>\n",
       "      <th>age</th>\n",
       "    </tr>\n",
       "    <tr>\n",
       "      <th>gender</th>\n",
       "      <th></th>\n",
       "      <th></th>\n",
       "    </tr>\n",
       "  </thead>\n",
       "  <tbody>\n",
       "    <tr>\n",
       "      <th>female</th>\n",
       "      <td>25.234173</td>\n",
       "      <td>25.0</td>\n",
       "    </tr>\n",
       "    <tr>\n",
       "      <th>male</th>\n",
       "      <td>25.930556</td>\n",
       "      <td>26.0</td>\n",
       "    </tr>\n",
       "  </tbody>\n",
       "</table>\n",
       "</div>"
      ],
      "text/plain": [
       "             mean median\n",
       "              age    age\n",
       "gender                  \n",
       "female  25.234173   25.0\n",
       "male    25.930556   26.0"
      ]
     },
     "execution_count": 30,
     "metadata": {},
     "output_type": "execute_result"
    }
   ],
   "source": [
    "df_age_trimmed.pivot_table(values='age', index='gender', aggfunc=['mean', 'median'])"
   ]
  },
  {
   "cell_type": "markdown",
   "metadata": {},
   "source": [
    "Based on the graph, it is a bimodal data graph that contains only ages from our hypothesis. It has a slight left skew now. However, we do see that the mean age of male and female paritcipants are different. We can further split the age data by gender, to see if gender has influence on how old someone is, and compare the distribution of the graphs."
   ]
  },
  {
   "cell_type": "code",
   "execution_count": 31,
   "metadata": {},
   "outputs": [
    {
     "name": "stderr",
     "output_type": "stream",
     "text": [
      "/tmp/ipykernel_764/2570580947.py:1: UserWarning: Boolean Series key will be reindexed to match DataFrame index.\n",
      "  df_male_age_trimmed = df_age_trimmed[df['gender'] == 'male']\n"
     ]
    },
    {
     "data": {
      "text/plain": [
       "(array([ 23., 104., 276., 377., 387., 371., 384., 591., 421., 671.]),\n",
       " array([20., 21., 22., 23., 24., 25., 26., 27., 28., 29., 30.]),\n",
       " <BarContainer object of 10 artists>)"
      ]
     },
     "execution_count": 31,
     "metadata": {},
     "output_type": "execute_result"
    },
    {
     "data": {
      "image/png": "[encoded data removed]",
      "text/plain": [
       "<Figure size 432x288 with 1 Axes>"
      ]
     },
     "metadata": {
      "needs_background": "light"
     },
     "output_type": "display_data"
    }
   ],
   "source": [
    "df_male_age_trimmed = df_age_trimmed[df['gender'] == 'male']\n",
    "plt.hist(df_male_age_trimmed['age'], align='mid', edgecolor='black')"
   ]
  },
  {
   "cell_type": "code",
   "execution_count": 32,
   "metadata": {},
   "outputs": [
    {
     "name": "stderr",
     "output_type": "stream",
     "text": [
      "/tmp/ipykernel_764/3598825546.py:1: UserWarning: Boolean Series key will be reindexed to match DataFrame index.\n",
      "  df_female_age_trimmed = df_age_trimmed[df['gender'] == 'female']\n"
     ]
    },
    {
     "data": {
      "text/plain": [
       "(array([ 30., 174., 353., 490., 434., 442., 511., 419., 290., 429.]),\n",
       " array([20., 21., 22., 23., 24., 25., 26., 27., 28., 29., 30.]),\n",
       " <BarContainer object of 10 artists>)"
      ]
     },
     "execution_count": 32,
     "metadata": {},
     "output_type": "execute_result"
    },
    {
     "data": {
      "image/png": "[encoded data removed]",
      "text/plain": [
       "<Figure size 432x288 with 1 Axes>"
      ]
     },
     "metadata": {
      "needs_background": "light"
     },
     "output_type": "display_data"
    }
   ],
   "source": [
    "df_female_age_trimmed = df_age_trimmed[df['gender'] == 'female']\n",
    "plt.hist(df_female_age_trimmed['age'], align='mid', edgecolor='black')"
   ]
  },
  {
   "cell_type": "markdown",
   "metadata": {},
   "source": [
    "Both male and female graphs have a bimodal shape distribution. However, the male age seems more skewed left while female age is more centered. This shows in our dataset the age distribution across male and female have some differences to consider."
   ]
  },
  {
   "cell_type": "markdown",
   "metadata": {},
   "source": [
    "Both male and female graphs have a bimodal shape distribution. However, the male age seems more skewed left while female age is more centered. This shows in our dataset the age distribution across male and female have some differences to consider."
   ]
  },
  {
   "cell_type": "markdown",
   "metadata": {},
   "source": [
    "### Analyze Distribution of Pairs with Differences in Age"
   ]
  },
  {
   "cell_type": "code",
   "execution_count": 33,
   "metadata": {},
   "outputs": [
    {
     "data": {
      "image/png": "[encoded data removed]",
      "text/plain": [
       "<Figure size 432x288 with 1 Axes>"
      ]
     },
     "metadata": {
      "needs_background": "light"
     },
     "output_type": "display_data"
    },
    {
     "data": {
      "text/plain": [
       "count    7995.000000\n",
       "mean        4.139962\n",
       "std         4.486942\n",
       "min         0.000000\n",
       "25%         1.000000\n",
       "50%         3.000000\n",
       "75%         5.000000\n",
       "max        37.000000\n",
       "Name: d_age, dtype: float64"
      ]
     },
     "execution_count": 33,
     "metadata": {},
     "output_type": "execute_result"
    }
   ],
   "source": [
    "#create a histogram of ages\n",
    "df['d_age'].hist(bins=10)\n",
    "plt.xlabel('Age Differences')\n",
    "plt.ylabel('Frequency')\n",
    "plt.title('Age Differences Distribution')\n",
    "plt.show()\n",
    "\n",
    "df['d_age'].describe()"
   ]
  },
  {
   "cell_type": "markdown",
   "metadata": {},
   "source": [
    "Here, we see that we have age differences ranging from 0 to 37, following a right skewed unimodal distribution with a median at 3 years in age gap, with an IQR of 4. Despite our relatively small IQR, we have a very wide range, so it is probably good to check for outliers at this point."
   ]
  },
  {
   "cell_type": "code",
   "execution_count": 34,
   "metadata": {},
   "outputs": [
    {
     "data": {
      "image/png": "[encoded data removed]",
      "text/plain": [
       "<Figure size 432x288 with 1 Axes>"
      ]
     },
     "metadata": {
      "needs_background": "light"
     },
     "output_type": "display_data"
    }
   ],
   "source": [
    "#look for outliers using boxplot\n",
    "df['d_age'].plot(kind='box')\n",
    "plt.show()"
   ]
  },
  {
   "cell_type": "markdown",
   "metadata": {},
   "source": [
    "According to our boxplot, everything above the age difference of 11 is an outlier. Noted. "
   ]
  },
  {
   "cell_type": "markdown",
   "metadata": {},
   "source": [
    "### Analyze Distribution of Gender"
   ]
  },
  {
   "cell_type": "code",
   "execution_count": 35,
   "metadata": {},
   "outputs": [
    {
     "name": "stdout",
     "output_type": "stream",
     "text": [
      "male      4003\n",
      "female    3992\n",
      "Name: gender, dtype: int64\n"
     ]
    }
   ],
   "source": [
    "## counts the number of genders\n",
    "gender_counts = df['gender'].value_counts()\n",
    "print(gender_counts)"
   ]
  },
  {
   "cell_type": "markdown",
   "metadata": {},
   "source": [
    "From here, we see we have a relatively uniform distribution of both males and females, and there doesn't seem to be anyone in this dataset that doesn't fall under one of those classifications."
   ]
  },
  {
   "cell_type": "markdown",
   "metadata": {},
   "source": [
    "### Analyze the Distribution of Work Fields"
   ]
  },
  {
   "cell_type": "code",
   "execution_count": 36,
   "metadata": {},
   "outputs": [
    {
     "data": {
      "text/plain": [
       "233"
      ]
     },
     "execution_count": 36,
     "metadata": {},
     "output_type": "execute_result"
    }
   ],
   "source": [
    "#implement the changes done in previous section\n",
    "df = df_age_trimmed\n",
    "df['field'].nunique()"
   ]
  },
  {
   "cell_type": "code",
   "execution_count": 37,
   "metadata": {},
   "outputs": [
    {
     "data": {
      "text/plain": [
       "array(['Law', 'law', 'Economics', 'Masters in Pulic Administration',\n",
       "       'Masters of Social Work&Education', 'Finance', 'Business',\n",
       "       'political science', 'money', 'Operations Research',\n",
       "       'TC [Health Ed]', 'Psychology', 'social work', 'Social Work',\n",
       "       'Speech Language Pathology', 'Speech Languahe Pathology',\n",
       "       'Educational Psychology', 'Applied Maths/Econs', 'Mathematics',\n",
       "       'Statistics', 'Organizational Psychology',\n",
       "       'Mechanical Engineering', 'Finanace', 'Finance&Economics',\n",
       "       'Undergrad - GS', 'Mathematical Finance', 'Medicine', 'MBA', 'LAW',\n",
       "       '?', 'psychology', 'German Literature',\n",
       "       'Business & International Affairs', 'MFA Creative Writing',\n",
       "       'Engineering', 'Electrical Engineering',\n",
       "       'Operations Research [SEAS]', 'chemistry', 'Journalism',\n",
       "       'Elementary/Childhood Education [MA]', 'Masters of Social Work',\n",
       "       'Communications', 'Marketing', 'Chemistry',\n",
       "       'International Educational Development',\n",
       "       'Education Administration', 'Business [MBA]', 'Computer Science',\n",
       "       'Climate-Earth and Environ. Science', 'financial math',\n",
       "       'Business- MBA', 'Religion', 'Film', 'Sociology',\n",
       "       'Economics; English', 'Economics; Sociology', 'English',\n",
       "       'psychology and english', 'Economics and Political Science',\n",
       "       'Art History/medicine', 'philosophy', 'electrical engineering',\n",
       "       'marine geophysics', 'theory', 'Nutrition/Genetics',\n",
       "       'Neuroscience', 'International Relations',\n",
       "       'international affairs - economic development',\n",
       "       'Political Science', 'Modern Chinese Literature', 'usiness',\n",
       "       'Business; marketing', 'physics [astrophysics]', 'Physics',\n",
       "       'Business/ Finance/ Real Estate', 'Biochemistry', 'Art Education',\n",
       "       'Philosophy', 'American Studies [Masters]', 'iology',\n",
       "       'Cell Biology', 'Microiology', 'math',\n",
       "       'International Affairs/Finance', 'International Affairs',\n",
       "       'international affairs/international finance',\n",
       "       'English and Comp Lit', 'international finance and usiness',\n",
       "       'Sociomedical Sciences- School of Pulic Health', 'Epidemiology',\n",
       "       'Social work', 'Medical Informatics',\n",
       "       'International Finance; Economic Policy', 'Law and Social Work',\n",
       "       'International Development', 'Business/Law', 'Clinical Psychology',\n",
       "       'microiology', 'Religion; GSAS',\n",
       "       'International Affairs and Pulic Health', 'International affairs',\n",
       "       'History',\n",
       "       'Business and International Affairs [MBA/MIA Dual Degree]', 'QMSS',\n",
       "       'climate change', 'MA Biotechnology',\n",
       "       'International Affairs/Business', 'Ecology',\n",
       "       'Master in Pulic Administration', 'Computational Biochemsistry',\n",
       "       'Neuroiology', 'Mathematics; PhD', 'History [GSAS - PhD]',\n",
       "       'International Business', 'iomedicine',\n",
       "       'Master of International Affairs', 'Sociology and Education',\n",
       "       'elementary education', 'Biology', 'Arts Administration',\n",
       "       'sociology', 'Japanese Literature', 'iotechnology',\n",
       "       'Earth and Environmental Science', 'Classics',\n",
       "       'Philosophy and Physics', 'nutrition', 'MA Science Education',\n",
       "       'Genetics', 'french', 'Nutritiron', 'GS Postacc PreMed',\n",
       "       'Art History', 'Molecular Biology', 'Genetics & Development',\n",
       "       'Electrical Engg.', 'Business School', 'engineering',\n",
       "       'International Politics',\n",
       "       'MBA / Master of International Affairs [SIPA]',\n",
       "       'medicine and iochemistry', 'Social Studies Education',\n",
       "       'MA Teaching Social Studies', 'Education Policy',\n",
       "       'Education- Literacy Specialist', 'speech pathology',\n",
       "       'Speech Pathology', 'math education', 'TESOL',\n",
       "       'Elementary Education', 'Cognitive Studies in Education',\n",
       "       'Finance/Economics', 'Museum Anthropology',\n",
       "       'Environmental Engineering', 'Business Administration',\n",
       "       'Curriculum and Teaching/Giftedness', 'Instructional Tech & Media',\n",
       "       'School Psychology', 'SIPA / MIA', 'English Education',\n",
       "       'art education', 'MA in Quantitative Methods', 'anthropology',\n",
       "       'Architecture', 'Uran Planning',\n",
       "       'International Security Policy - SIPA', 'Nutrition', 'EDUCATION',\n",
       "       'Music Education', 'music education', 'Counseling Psychology',\n",
       "       'education', 'Communications in Education', 'MBA Finance',\n",
       "       'Intrernational Affairs', 'BUSINESS CONSULTING', 'usiness school',\n",
       "       'Higher Ed. - M.A.', 'Education', 'Neuroscience and Education',\n",
       "       'Creative Writing', 'Creative Writing - Nonfiction',\n",
       "       'Writing: Literary Nonfiction', 'Creative Writing [Nonfiction]',\n",
       "       'Theatre Management & Producing', 'Financial Engineering',\n",
       "       'iomedical engineering', 'Fundraising Management',\n",
       "       'Biomedical Engineering', 'Business [Finance & Marketing]',\n",
       "       'Elementary Education - Preservice',\n",
       "       'Education Leadership - Pulic School Administration',\n",
       "       'MFA Writing', 'Bilingual Education',\n",
       "       'International Affairs - Economic Policy', 'SIPA - Energy',\n",
       "       'Pulic Policy', 'Law/Business', 'MFA  Poetry',\n",
       "       'iomedical informatics', 'physics', 'art history', 'working',\n",
       "       'Consulting', 'Human Rights: Middle East', 'Human Rights',\n",
       "       'medicine', 'SIPA-International Affairs', 'teaching of English',\n",
       "       'African-American Studies/History', 'film', 'Pulic Administration',\n",
       "       'journalism', 'Biology PhD', 'iochemistry/genetics',\n",
       "       'epidemiology', 'Stats', 'MFA Acting Program',\n",
       "       'Nonfiction writing', 'Biochemistry & Molecular Biophysics',\n",
       "       'Acting', 'Theater', 'Social Work/SIPA', 'Pulic Health',\n",
       "       'ELECTRICAL ENGINEERING', 'Math', 'Industrial Engineering',\n",
       "       'Industrial Engineering/Operations Research',\n",
       "       'Masters of Industrial Engineering', 'Biomedical Informatics',\n",
       "       'MBA - Private Equity / Real Estate', 'General management/finance',\n",
       "       'Climate Dynamics'], dtype=object)"
      ]
     },
     "execution_count": 37,
     "metadata": {},
     "output_type": "execute_result"
    }
   ],
   "source": [
    "df['field'].unique()"
   ]
  },
  {
   "cell_type": "code",
   "execution_count": 38,
   "metadata": {},
   "outputs": [],
   "source": [
    "# delete rows that have values being \"?\" in 'field' column\n",
    "df = df[df['field'] != '?']"
   ]
  },
  {
   "cell_type": "code",
   "execution_count": 39,
   "metadata": {
    "scrolled": false
   },
   "outputs": [
    {
     "data": {
      "text/plain": [
       "Business                          462\n",
       "Law                               423\n",
       "MBA                               420\n",
       "Social Work                       340\n",
       "International Affairs             203\n",
       "                                 ... \n",
       "Business [Finance & Marketing]      5\n",
       "marine geophysics                   5\n",
       "theory                              5\n",
       "International Affairs/Business      5\n",
       "SIPA - Energy                       2\n",
       "Name: field, Length: 232, dtype: int64"
      ]
     },
     "execution_count": 39,
     "metadata": {},
     "output_type": "execute_result"
    }
   ],
   "source": [
    "df['field'].value_counts()"
   ]
  },
  {
   "cell_type": "markdown",
   "metadata": {},
   "source": [
    "An observation based on the field unique values is that there are hundreds of different fields, but we can simplify this by changing everything to lowercase, grouping them by broader categories, and also checking for outliers."
   ]
  },
  {
   "cell_type": "code",
   "execution_count": 40,
   "metadata": {},
   "outputs": [
    {
     "name": "stderr",
     "output_type": "stream",
     "text": [
      "/tmp/ipykernel_764/4192269946.py:69: SettingWithCopyWarning: \n",
      "A value is trying to be set on a copy of a slice from a DataFrame.\n",
      "Try using .loc[row_indexer,col_indexer] = value instead\n",
      "\n",
      "See the caveats in the documentation: https://pandas.pydata.org/pandas-docs/stable/user_guide/indexing.html#returning-a-view-versus-a-copy\n",
      "  df['field'] = df['field'].apply(standardize_field)\n",
      "/tmp/ipykernel_764/4192269946.py:70: SettingWithCopyWarning: \n",
      "A value is trying to be set on a copy of a slice from a DataFrame.\n",
      "Try using .loc[row_indexer,col_indexer] = value instead\n",
      "\n",
      "See the caveats in the documentation: https://pandas.pydata.org/pandas-docs/stable/user_guide/indexing.html#returning-a-view-versus-a-copy\n",
      "  df_female_age_trimmed['field'] = df_female_age_trimmed['field'].apply(standardize_field)\n",
      "/tmp/ipykernel_764/4192269946.py:71: SettingWithCopyWarning: \n",
      "A value is trying to be set on a copy of a slice from a DataFrame.\n",
      "Try using .loc[row_indexer,col_indexer] = value instead\n",
      "\n",
      "See the caveats in the documentation: https://pandas.pydata.org/pandas-docs/stable/user_guide/indexing.html#returning-a-view-versus-a-copy\n",
      "  df_male_age_trimmed['field'] = df_male_age_trimmed['field'].apply(standardize_field)\n"
     ]
    }
   ],
   "source": [
    "def standardize_field(string):\n",
    "    string = string.lower()\n",
    "    string = string.strip()\n",
    "    if \"law\" in string:\n",
    "        output = \"Law\"\n",
    "    elif \"business\" in string: \n",
    "        output = \"Business\"\n",
    "    elif \"history\" in string:\n",
    "        output = \"History\"\n",
    "    elif \"social\" in string:\n",
    "        output = \"Social Work\"\n",
    "    elif \"mba\" in string:\n",
    "        output = \"MBA\"\n",
    "    elif \"international\" in string:\n",
    "        output = \"International Affairs\"\n",
    "    elif \"psychology\" in string:\n",
    "        output = \"Psychology\"\n",
    "    elif \"physic\" in string:\n",
    "        output = \"Physics\"\n",
    "    elif \"sociology\" in string:\n",
    "        output = \"Sociology\"\n",
    "    elif \"engineer\" in string: \n",
    "        output = \"Engineering\"\n",
    "    elif \"journal\" in string: \n",
    "        output = \"Journalism\"\n",
    "    elif \"econ\" in string:\n",
    "        output = \"Economics\"\n",
    "    elif \"finance\" in string:\n",
    "        output = \"Finance\"\n",
    "    elif \"research\" in string:\n",
    "        output = \"Research\"\n",
    "    elif \"chem\" in string:\n",
    "        output = \"Chemistry\"\n",
    "    elif \"poli\" in string:\n",
    "        output = \"Political Science\"\n",
    "    elif \"health\" in string:\n",
    "        output = \"Health\"\n",
    "    elif \"anthro\" in string:\n",
    "        output = \"Anthropology\"\n",
    "    elif \"math\" in string:\n",
    "        output = \"Math\" \n",
    "    elif \"language\" in string:\n",
    "        output = \"Language\"\n",
    "    elif \"admin\" in string:\n",
    "        output = \"Administration\"\n",
    "    elif \"film\" in string:\n",
    "        output = \"Film\"\n",
    "    elif \"science\" in string:\n",
    "        output = \"Science\"\n",
    "    elif \"art\" in string:\n",
    "        output = \"Art\"\n",
    "    elif \"bio\" in string:\n",
    "        output = \"Biology\"\n",
    "    elif \"eco\" in string:\n",
    "        output = \"Biology\"\n",
    "    \n",
    "    elif \"stat\" in string:\n",
    "        output = \"Statisitcs\"\n",
    "    elif \"med\" in string:\n",
    "        output = \"Medicine\"\n",
    "    elif \"lit\" in string:\n",
    "        output = \"Literature\"\n",
    "    elif \"ed\" in string:\n",
    "        output = \"Education\"\n",
    "    else:\n",
    "        output = \"Other\"\n",
    "    return output\n",
    "\n",
    "df['field'] = df['field'].apply(standardize_field)\n",
    "df_female_age_trimmed['field'] = df_female_age_trimmed['field'].apply(standardize_field)\n",
    "df_male_age_trimmed['field'] = df_male_age_trimmed['field'].apply(standardize_field)"
   ]
  },
  {
   "cell_type": "code",
   "execution_count": 41,
   "metadata": {},
   "outputs": [
    {
     "data": {
      "text/plain": [
       "Other                    1173\n",
       "Business                  696\n",
       "Law                       592\n",
       "Engineering               535\n",
       "MBA                       483\n",
       "Social Work               450\n",
       "International Affairs     446\n",
       "Psychology                336\n",
       "Education                 275\n",
       "Biology                   197\n",
       "Name: field, dtype: int64"
      ]
     },
     "execution_count": 41,
     "metadata": {},
     "output_type": "execute_result"
    }
   ],
   "source": [
    "df['field'].value_counts().head(10)"
   ]
  },
  {
   "cell_type": "markdown",
   "metadata": {},
   "source": [
    "It seems that we have lots of people doing Business, Law, Engineering, and MBA in our samples. Lots of the smaller fields were categorized as 'Other' for the sake of convenience as well. We can also try to see if gender will make a difference in the job/occupation of a person."
   ]
  },
  {
   "cell_type": "code",
   "execution_count": 42,
   "metadata": {},
   "outputs": [
    {
     "data": {
      "text/plain": [
       "Other                    783\n",
       "Social Work              450\n",
       "Psychology               291\n",
       "International Affairs    253\n",
       "Education                248\n",
       "Law                      233\n",
       "Business                 129\n",
       "Political Science        109\n",
       "Medicine                 100\n",
       "Biology                   99\n",
       "Name: field, dtype: int64"
      ]
     },
     "execution_count": 42,
     "metadata": {},
     "output_type": "execute_result"
    }
   ],
   "source": [
    "df_female_age_trimmed['field'].value_counts().head(10)"
   ]
  },
  {
   "cell_type": "code",
   "execution_count": 43,
   "metadata": {},
   "outputs": [
    {
     "data": {
      "text/plain": [
       "Business                 567\n",
       "Other                    445\n",
       "Engineering              438\n",
       "MBA                      431\n",
       "Law                      359\n",
       "International Affairs    193\n",
       "Chemistry                146\n",
       "Finance                  116\n",
       "Math                     114\n",
       "Biology                   98\n",
       "Name: field, dtype: int64"
      ]
     },
     "execution_count": 43,
     "metadata": {},
     "output_type": "execute_result"
    }
   ],
   "source": [
    "df_male_age_trimmed['field'].value_counts().head(10)"
   ]
  },
  {
   "cell_type": "markdown",
   "metadata": {},
   "source": [
    "Based on this data, we can see that gender correlated with the field a person works in, as the distribution of the most popular fields are different between genders. This potentially can have implications on our data. Also, since field is only qualitative data, we can't do things like distribition or central tendency. There is also the issue of grouping lots of people together in the \"other\" category when they are completely different majors, but something has to be done in order to account for typos or very specific majors with few people."
   ]
  },
  {
   "cell_type": "markdown",
   "metadata": {},
   "source": [
    "### Analyze Relationship Between Fields and Matches"
   ]
  },
  {
   "cell_type": "code",
   "execution_count": 44,
   "metadata": {},
   "outputs": [
    {
     "data": {
      "text/plain": [
       "field\n",
       "Administration    0.351064\n",
       "Medicine          0.281046\n",
       "Literature        0.233766\n",
       "History           0.228261\n",
       "Journalism        0.220000\n",
       "Law               0.219595\n",
       "Biology           0.208122\n",
       "Psychology        0.199405\n",
       "Film              0.194175\n",
       "Business          0.193966\n",
       "Name: match, dtype: float64"
      ]
     },
     "execution_count": 44,
     "metadata": {},
     "output_type": "execute_result"
    }
   ],
   "source": [
    "meansArray = df.groupby('field')['match'].mean()\n",
    "topTenFields = meansArray.sort_values(ascending=False)[:10]\n",
    "topTenFields"
   ]
  },
  {
   "cell_type": "markdown",
   "metadata": {},
   "source": [
    "This shows the ten fields with the highest match rates. This shows that many humanities fields tend to have higher success rates, but medicine and health-related fields also tends to have quite a success rate."
   ]
  },
  {
   "cell_type": "markdown",
   "metadata": {},
   "source": [
    "### Analyze Race Distribution and Affects of Race"
   ]
  },
  {
   "cell_type": "code",
   "execution_count": 45,
   "metadata": {},
   "outputs": [
    {
     "data": {
      "text/plain": [
       "5"
      ]
     },
     "execution_count": 45,
     "metadata": {},
     "output_type": "execute_result"
    }
   ],
   "source": [
    "df['race'].nunique()"
   ]
  },
  {
   "cell_type": "code",
   "execution_count": 46,
   "metadata": {},
   "outputs": [
    {
     "data": {
      "text/plain": [
       "array(['Asian/Pacific Islander/Asian-American',\n",
       "       'European/Caucasian-American', 'Other', 'Latino/Hispanic American',\n",
       "       'Black/African American'], dtype=object)"
      ]
     },
     "execution_count": 46,
     "metadata": {},
     "output_type": "execute_result"
    }
   ],
   "source": [
    "df['race'].unique()"
   ]
  },
  {
   "cell_type": "markdown",
   "metadata": {},
   "source": [
    "Since there are only 5 categories of race given, we can just do analysis on how it affects data without much wrangling. Since race is also qualitative data, we can't run a mean or a distribution shape analysis on it."
   ]
  },
  {
   "cell_type": "code",
   "execution_count": 47,
   "metadata": {},
   "outputs": [
    {
     "data": {
      "text/plain": [
       "European/Caucasian-American              4007\n",
       "Asian/Pacific Islander/Asian-American    1771\n",
       "Latino/Hispanic American                  550\n",
       "Other                                     454\n",
       "Black/African American                    340\n",
       "Name: race, dtype: int64"
      ]
     },
     "execution_count": 47,
     "metadata": {},
     "output_type": "execute_result"
    }
   ],
   "source": [
    "df['race'].value_counts()"
   ]
  },
  {
   "cell_type": "markdown",
   "metadata": {},
   "source": [
    "Based on this, we can see there is a majority of Caucasian people who are represented in the dataset, followed by Asian people. This data can potentially affect whether people will match, so we will see if gender has correlation with race. We can also drop the \"?\" data."
   ]
  },
  {
   "cell_type": "code",
   "execution_count": 48,
   "metadata": {},
   "outputs": [],
   "source": [
    "df = df[df['race'] != '?']\n",
    "df_female_age_trimmed = df_female_age_trimmed[df_female_age_trimmed['race'] != '?']\n",
    "df_male_age_trimmed = df_male_age_trimmed[df_male_age_trimmed['race'] != '?']"
   ]
  },
  {
   "cell_type": "code",
   "execution_count": 49,
   "metadata": {},
   "outputs": [
    {
     "data": {
      "text/plain": [
       "European/Caucasian-American              1888\n",
       "Asian/Pacific Islander/Asian-American     933\n",
       "Latino/Hispanic American                  316\n",
       "Other                                     235\n",
       "Black/African American                    165\n",
       "Name: race, dtype: int64"
      ]
     },
     "execution_count": 49,
     "metadata": {},
     "output_type": "execute_result"
    }
   ],
   "source": [
    "df_female_age_trimmed['race'].value_counts()"
   ]
  },
  {
   "cell_type": "code",
   "execution_count": 50,
   "metadata": {},
   "outputs": [
    {
     "data": {
      "text/plain": [
       "European/Caucasian-American              2119\n",
       "Asian/Pacific Islander/Asian-American     838\n",
       "Latino/Hispanic American                  234\n",
       "Other                                     219\n",
       "Black/African American                    175\n",
       "Name: race, dtype: int64"
      ]
     },
     "execution_count": 50,
     "metadata": {},
     "output_type": "execute_result"
    }
   ],
   "source": [
    "df_male_age_trimmed['race'].value_counts()"
   ]
  },
  {
   "cell_type": "markdown",
   "metadata": {},
   "source": [
    "It looks like race is not correlated with gender, which means we will not have to do additional data wrangling to make our data support our hypothesis better."
   ]
  },
  {
   "cell_type": "markdown",
   "metadata": {},
   "source": [
    "### Analyze Relationship Between Pairs of Similar Race and Matches"
   ]
  },
  {
   "cell_type": "code",
   "execution_count": 51,
   "metadata": {},
   "outputs": [
    {
     "name": "stdout",
     "output_type": "stream",
     "text": [
      "0    4304\n",
      "1    2818\n",
      "Name: samerace, dtype: int64\n"
     ]
    }
   ],
   "source": [
    "# Looks at how many pairs were the same race\n",
    "print(df['samerace'].value_counts())"
   ]
  },
  {
   "cell_type": "markdown",
   "metadata": {},
   "source": [
    "We see that we have around 4000 pairs that were of different race, and 3000 pairs that were the same race. Let us just see if there's any initial association between match % and similar races."
   ]
  },
  {
   "cell_type": "code",
   "execution_count": 52,
   "metadata": {},
   "outputs": [
    {
     "data": {
      "image/png": "[encoded data removed]",
      "text/plain": [
       "<Figure size 432x288 with 1 Axes>"
      ]
     },
     "metadata": {
      "needs_background": "light"
     },
     "output_type": "display_data"
    }
   ],
   "source": [
    "# grouped bar plot based on matching race\n",
    "\n",
    "grouped = df.groupby('samerace')['match'].mean()\n",
    "\n",
    "plt.bar(['Not Same Race', 'Same Race'], grouped.values, color=['red', 'green'])\n",
    "plt.xlabel('Race')\n",
    "plt.ylabel('Percentage matched')\n",
    "plt.show()"
   ]
  },
  {
   "cell_type": "markdown",
   "metadata": {},
   "source": [
    "We see there may be some association between matching and race. We don't know whether race is necessarily a good predictor of matches or not, but the fact remains that there seem to be some relationship between a pair being the same race and them matching, whether directly or through a confounding variable."
   ]
  },
  {
   "cell_type": "markdown",
   "metadata": {},
   "source": [
    "### Analyze Relationship Between Interest Correlation and Matches"
   ]
  },
  {
   "cell_type": "code",
   "execution_count": 53,
   "metadata": {},
   "outputs": [
    {
     "data": {
      "text/plain": [
       "0.03322055238493937"
      ]
     },
     "execution_count": 53,
     "metadata": {},
     "output_type": "execute_result"
    }
   ],
   "source": [
    "intCorr = df['interests_correlate'].corr(df['match'])\n",
    "intCorr"
   ]
  },
  {
   "cell_type": "markdown",
   "metadata": {},
   "source": [
    "The \"intCorr\" variable shows the correlation between the interest_correlate column and the match column. This value is incredibly low, thus implying that there is most likely not a strong connection between these two columns."
   ]
  },
  {
   "cell_type": "markdown",
   "metadata": {},
   "source": [
    "### Analyze Correlation of Attributes ('attractive', 'sincere', 'intelligence', 'funny', 'ambition') for Individuals"
   ]
  },
  {
   "cell_type": "code",
   "execution_count": 54,
   "metadata": {},
   "outputs": [
    {
     "data": {
      "text/plain": [
       "<AxesSubplot:>"
      ]
     },
     "execution_count": 54,
     "metadata": {},
     "output_type": "execute_result"
    },
    {
     "data": {
      "image/png": "[encoded data removed]",
      "text/plain": [
       "<Figure size 432x288 with 2 Axes>"
      ]
     },
     "metadata": {
      "needs_background": "light"
     },
     "output_type": "display_data"
    }
   ],
   "source": [
    "# 5 attribute columns that we want to analyze\n",
    "attributes = ['attractive', 'sincere', 'intelligence', 'funny', 'ambition']\n",
    "\n",
    "# find the correlation matrix\n",
    "corr_matrix = df[attributes].corr()\n",
    "\n",
    "# draw heatmap to show the correlation\n",
    "sns.heatmap(corr_matrix, annot=True, cmap='coolwarm')"
   ]
  },
  {
   "cell_type": "markdown",
   "metadata": {},
   "source": [
    "From which we can see that 'intelligence' and 'attractive' are comparatively high correlated when comparing to other attribute pairs."
   ]
  },
  {
   "cell_type": "markdown",
   "metadata": {},
   "source": [
    "### Visualize the Difference in Attribute Scores For Matched vs. Unmatched Pairs"
   ]
  },
  {
   "cell_type": "markdown",
   "metadata": {},
   "source": [
    "Each individual scored themselves on these 5 attributes as well as their partner. We want to see if there's a relationship between those scores. Are individuals more likely to match with people who seem similar to them on these attributes?"
   ]
  },
  {
   "cell_type": "code",
   "execution_count": 55,
   "metadata": {},
   "outputs": [],
   "source": [
    "# dataframe with attribute scores for the individual\n",
    "attri_df = df[['attractive', 'sincere', 'intelligence', 'funny', 'ambition']]\n",
    "\n",
    "# dataframe with attribute scores for the partner given by individual\n",
    "attri_partner_df = df[['attractive_partner', 'sincere_partner', 'intelligence_partner', 'funny_partner', 'ambition_partner']]\n",
    "attri_partner_df.columns = ['attractive', 'sincere', 'intelligence', 'funny', 'ambition']\n",
    "\n",
    "# dataframe with difference in attribute scores\n",
    "attri_diff = attri_df.subtract(attri_partner_df)\n",
    "attri_diff.columns = ['attractive_diff', 'sincere_diff', 'intelligence_diff', 'funny_diff', 'ambition_diff']\n",
    "\n",
    "# include match column to group data my match\n",
    "attri_diff['match'] = df['match']"
   ]
  },
  {
   "cell_type": "code",
   "execution_count": 56,
   "metadata": {},
   "outputs": [
    {
     "data": {
      "image/png": "[encoded data removed]",
      "text/plain": [
       "<Figure size 576x360 with 1 Axes>"
      ]
     },
     "metadata": {
      "needs_background": "light"
     },
     "output_type": "display_data"
    }
   ],
   "source": [
    "# grouped bar plot with average difference in attribute scores\n",
    "mean_diff = attri_diff.groupby('match').mean()\n",
    "mean_diff.transpose().plot(kind='bar', figsize=(8,5), title='Average Difference in Attributes for Matched vs. Not-Matched Pairs', \n",
    "                           ylabel='Difference in Score', xlabel='Attribute', color=['orange', 'green'])\n",
    "plt.legend(['No', 'Yes'])\n",
    "plt.show()\n"
   ]
  },
  {
   "cell_type": "markdown",
   "metadata": {},
   "source": [
    "It appears that for all the attributes, the average difference is a lot lower for pairs that matched compared to those that did not. We can run a t-test to determine the significance. "
   ]
  },
  {
   "cell_type": "markdown",
   "metadata": {},
   "source": [
    "### T-Test to Determine Significance of Attribute Differences For Matched vs Unmatched Pairs"
   ]
  },
  {
   "cell_type": "code",
   "execution_count": 57,
   "metadata": {},
   "outputs": [
    {
     "name": "stdout",
     "output_type": "stream",
     "text": [
      "-16.488942069866706 5.642901311418821e-60\n",
      "There is a significant difference in attractive_diff\n",
      "-12.401053771319726 5.910530960553161e-35\n",
      "There is a significant difference in sincere_diff\n",
      "-7.700273070739728 1.5414403899237064e-14\n",
      "There is a significant difference in intelligence_diff\n",
      "-21.762204865910007 1.0315996322260595e-101\n",
      "There is a significant difference in funny_diff\n",
      "-7.890145451226419 3.4705887048192993e-15\n",
      "There is a significant difference in ambition_diff\n"
     ]
    }
   ],
   "source": [
    "attributes = ['attractive_diff', 'sincere_diff', 'intelligence_diff', 'funny_diff', 'ambition_diff']\n",
    "\n",
    "for a in attributes:\n",
    "    match = attri_diff[attri_diff['match'] == 1][a]\n",
    "    not_match = attri_diff[attri_diff['match'] == 0][a]\n",
    "    t_val, p_val = stats.ttest_ind(match, not_match)\n",
    "    print(t_val,p_val)\n",
    "    if p_val < 0.05:\n",
    "        print(\"There is a significant difference in \"+a)\n",
    "    else:\n",
    "        print(\"There is not a significance difference in \"+a)"
   ]
  },
  {
   "cell_type": "markdown",
   "metadata": {},
   "source": [
    "Based on the results of these t-tests, we can conclude that there is a significant difference in the average difference of attribute scores between matched and not-matched pairs. In other words, most of the pairs that matched had a smaller difference in scores, and thus, similarity in all 5 attributes correlates with compatibility. "
   ]
  },
  {
   "cell_type": "markdown",
   "metadata": {},
   "source": [
    "### Check for Outliers in the Remaining Columns"
   ]
  },
  {
   "cell_type": "markdown",
   "metadata": {},
   "source": [
    "Recall that we have trimmed the data so that our data only includes people between ages 20-30, so there won't be any outliers there.\n",
    "\n",
    "Recall above we have also already checked for outliers for pairs with a difference in age group. For reference, here it is again:"
   ]
  },
  {
   "cell_type": "code",
   "execution_count": 58,
   "metadata": {},
   "outputs": [
    {
     "data": {
      "image/png": "[encoded data removed]",
      "text/plain": [
       "<Figure size 432x288 with 1 Axes>"
      ]
     },
     "metadata": {
      "needs_background": "light"
     },
     "output_type": "display_data"
    }
   ],
   "source": [
    "#look for outliers using boxplot\n",
    "df['d_age'].plot(kind='box')\n",
    "plt.show()"
   ]
  },
  {
   "cell_type": "markdown",
   "metadata": {},
   "source": [
    "We have also ensured that our gender column does not have outliers."
   ]
  },
  {
   "cell_type": "code",
   "execution_count": 59,
   "metadata": {},
   "outputs": [
    {
     "data": {
      "text/plain": [
       "male      3585\n",
       "female    3537\n",
       "Name: gender, dtype: int64"
      ]
     },
     "execution_count": 59,
     "metadata": {},
     "output_type": "execute_result"
    }
   ],
   "source": [
    "df['gender'].value_counts()"
   ]
  },
  {
   "cell_type": "markdown",
   "metadata": {},
   "source": [
    "For the rest of the columns, we loop through them and for qualitative features, we check if any value occurs less than twice, and if so we consider those values as outliers and thus outliers exist in those columns; for quantitative features, we check if the z_score of any value is greater than 2 or less than -2, to determine if outliers exist."
   ]
  },
  {
   "cell_type": "code",
   "execution_count": 60,
   "metadata": {},
   "outputs": [],
   "source": [
    "from scipy.stats import zscore"
   ]
  },
  {
   "cell_type": "code",
   "execution_count": 61,
   "metadata": {},
   "outputs": [],
   "source": [
    "def checkOutlierQualitative(series):\n",
    "    for idx in series.index:\n",
    "        if series[idx] < 2:\n",
    "            return True\n",
    "    return False\n",
    "\n",
    "def checkOutlierQuantitative(series):\n",
    "    z_scores = zscore(series)\n",
    "    \n",
    "    for idx in z_scores.index:\n",
    "        if z_scores[idx] > 2 or z_scores[idx] < -2:\n",
    "            return True\n",
    "    return False"
   ]
  },
  {
   "cell_type": "code",
   "execution_count": 62,
   "metadata": {},
   "outputs": [
    {
     "data": {
      "text/plain": [
       "['attractive',\n",
       " 'attractive_partner',\n",
       " 'sincere_partner',\n",
       " 'intelligence_partner',\n",
       " 'funny_partner',\n",
       " 'ambition_partner',\n",
       " 'interests_correlate']"
      ]
     },
     "execution_count": 62,
     "metadata": {},
     "output_type": "execute_result"
    }
   ],
   "source": [
    "outlier_columns = []\n",
    "\n",
    "for i in range(4, len(columns)):\n",
    "    col = columns[i]\n",
    "    \n",
    "    if df[col].dtypes == 'O': # qualitative feature\n",
    "        if checkOutlierQualitative(df[col].value_counts()):\n",
    "            outlier_columns.append(col)\n",
    "    else: # quantitative feature\n",
    "        if checkOutlierQuantitative(df[col].value_counts()):\n",
    "            outlier_columns.append(col)\n",
    "\n",
    "outlier_columns"
   ]
  },
  {
   "cell_type": "markdown",
   "metadata": {},
   "source": [
    "# How Well Do Different Factors Predict a Match"
   ]
  },
  {
   "cell_type": "markdown",
   "metadata": {},
   "source": [
    "Let us now try to predict a match by looking at different combinations of variables. We will be doing this using a logistic regression model, a decision tree model, and a random forest model to see which model type best fits our data."
   ]
  },
  {
   "cell_type": "code",
   "execution_count": 63,
   "metadata": {},
   "outputs": [
    {
     "data": {
      "text/html": [
       "<div>\n",
       "<style scoped>\n",
       "    .dataframe tbody tr th:only-of-type {\n",
       "        vertical-align: middle;\n",
       "    }\n",
       "\n",
       "    .dataframe tbody tr th {\n",
       "        vertical-align: top;\n",
       "    }\n",
       "\n",
       "    .dataframe thead th {\n",
       "        text-align: right;\n",
       "    }\n",
       "</style>\n",
       "<table border=\"1\" class=\"dataframe\">\n",
       "  <thead>\n",
       "    <tr style=\"text-align: right;\">\n",
       "      <th></th>\n",
       "      <th>gender</th>\n",
       "      <th>age</th>\n",
       "      <th>age_o</th>\n",
       "      <th>d_age</th>\n",
       "      <th>race</th>\n",
       "      <th>race_o</th>\n",
       "      <th>samerace</th>\n",
       "      <th>field</th>\n",
       "      <th>attractive</th>\n",
       "      <th>sincere</th>\n",
       "      <th>...</th>\n",
       "      <th>funny</th>\n",
       "      <th>ambition</th>\n",
       "      <th>attractive_partner</th>\n",
       "      <th>sincere_partner</th>\n",
       "      <th>intelligence_partner</th>\n",
       "      <th>funny_partner</th>\n",
       "      <th>ambition_partner</th>\n",
       "      <th>interests_correlate</th>\n",
       "      <th>match</th>\n",
       "      <th>met</th>\n",
       "    </tr>\n",
       "  </thead>\n",
       "  <tbody>\n",
       "    <tr>\n",
       "      <th>0</th>\n",
       "      <td>female</td>\n",
       "      <td>21.0</td>\n",
       "      <td>27.0</td>\n",
       "      <td>6.0</td>\n",
       "      <td>Asian/Pacific Islander/Asian-American</td>\n",
       "      <td>European/Caucasian-American</td>\n",
       "      <td>0</td>\n",
       "      <td>Law</td>\n",
       "      <td>6.0</td>\n",
       "      <td>8.0</td>\n",
       "      <td>...</td>\n",
       "      <td>8.0</td>\n",
       "      <td>7.0</td>\n",
       "      <td>6.0</td>\n",
       "      <td>9.0</td>\n",
       "      <td>7.0</td>\n",
       "      <td>7.0</td>\n",
       "      <td>6.0</td>\n",
       "      <td>0.14</td>\n",
       "      <td>0</td>\n",
       "      <td>0.0</td>\n",
       "    </tr>\n",
       "    <tr>\n",
       "      <th>1</th>\n",
       "      <td>female</td>\n",
       "      <td>21.0</td>\n",
       "      <td>22.0</td>\n",
       "      <td>1.0</td>\n",
       "      <td>Asian/Pacific Islander/Asian-American</td>\n",
       "      <td>European/Caucasian-American</td>\n",
       "      <td>0</td>\n",
       "      <td>Law</td>\n",
       "      <td>6.0</td>\n",
       "      <td>8.0</td>\n",
       "      <td>...</td>\n",
       "      <td>8.0</td>\n",
       "      <td>7.0</td>\n",
       "      <td>7.0</td>\n",
       "      <td>8.0</td>\n",
       "      <td>7.0</td>\n",
       "      <td>8.0</td>\n",
       "      <td>5.0</td>\n",
       "      <td>0.54</td>\n",
       "      <td>0</td>\n",
       "      <td>1.0</td>\n",
       "    </tr>\n",
       "    <tr>\n",
       "      <th>2</th>\n",
       "      <td>female</td>\n",
       "      <td>21.0</td>\n",
       "      <td>22.0</td>\n",
       "      <td>1.0</td>\n",
       "      <td>Asian/Pacific Islander/Asian-American</td>\n",
       "      <td>Asian/Pacific Islander/Asian-American</td>\n",
       "      <td>1</td>\n",
       "      <td>Law</td>\n",
       "      <td>6.0</td>\n",
       "      <td>8.0</td>\n",
       "      <td>...</td>\n",
       "      <td>8.0</td>\n",
       "      <td>7.0</td>\n",
       "      <td>5.0</td>\n",
       "      <td>8.0</td>\n",
       "      <td>9.0</td>\n",
       "      <td>8.0</td>\n",
       "      <td>5.0</td>\n",
       "      <td>0.16</td>\n",
       "      <td>1</td>\n",
       "      <td>1.0</td>\n",
       "    </tr>\n",
       "    <tr>\n",
       "      <th>3</th>\n",
       "      <td>female</td>\n",
       "      <td>21.0</td>\n",
       "      <td>23.0</td>\n",
       "      <td>2.0</td>\n",
       "      <td>Asian/Pacific Islander/Asian-American</td>\n",
       "      <td>European/Caucasian-American</td>\n",
       "      <td>0</td>\n",
       "      <td>Law</td>\n",
       "      <td>6.0</td>\n",
       "      <td>8.0</td>\n",
       "      <td>...</td>\n",
       "      <td>8.0</td>\n",
       "      <td>7.0</td>\n",
       "      <td>7.0</td>\n",
       "      <td>6.0</td>\n",
       "      <td>8.0</td>\n",
       "      <td>7.0</td>\n",
       "      <td>6.0</td>\n",
       "      <td>0.61</td>\n",
       "      <td>1</td>\n",
       "      <td>0.0</td>\n",
       "    </tr>\n",
       "    <tr>\n",
       "      <th>4</th>\n",
       "      <td>female</td>\n",
       "      <td>21.0</td>\n",
       "      <td>24.0</td>\n",
       "      <td>3.0</td>\n",
       "      <td>Asian/Pacific Islander/Asian-American</td>\n",
       "      <td>Latino/Hispanic American</td>\n",
       "      <td>0</td>\n",
       "      <td>Law</td>\n",
       "      <td>6.0</td>\n",
       "      <td>8.0</td>\n",
       "      <td>...</td>\n",
       "      <td>8.0</td>\n",
       "      <td>7.0</td>\n",
       "      <td>5.0</td>\n",
       "      <td>6.0</td>\n",
       "      <td>7.0</td>\n",
       "      <td>7.0</td>\n",
       "      <td>6.0</td>\n",
       "      <td>0.21</td>\n",
       "      <td>1</td>\n",
       "      <td>0.0</td>\n",
       "    </tr>\n",
       "  </tbody>\n",
       "</table>\n",
       "<p>5 rows × 21 columns</p>\n",
       "</div>"
      ],
      "text/plain": [
       "   gender   age  age_o  d_age                                   race  \\\n",
       "0  female  21.0   27.0    6.0  Asian/Pacific Islander/Asian-American   \n",
       "1  female  21.0   22.0    1.0  Asian/Pacific Islander/Asian-American   \n",
       "2  female  21.0   22.0    1.0  Asian/Pacific Islander/Asian-American   \n",
       "3  female  21.0   23.0    2.0  Asian/Pacific Islander/Asian-American   \n",
       "4  female  21.0   24.0    3.0  Asian/Pacific Islander/Asian-American   \n",
       "\n",
       "                                  race_o samerace field  attractive  sincere  \\\n",
       "0            European/Caucasian-American        0   Law         6.0      8.0   \n",
       "1            European/Caucasian-American        0   Law         6.0      8.0   \n",
       "2  Asian/Pacific Islander/Asian-American        1   Law         6.0      8.0   \n",
       "3            European/Caucasian-American        0   Law         6.0      8.0   \n",
       "4               Latino/Hispanic American        0   Law         6.0      8.0   \n",
       "\n",
       "   ...  funny  ambition  attractive_partner  sincere_partner  \\\n",
       "0  ...    8.0       7.0                 6.0              9.0   \n",
       "1  ...    8.0       7.0                 7.0              8.0   \n",
       "2  ...    8.0       7.0                 5.0              8.0   \n",
       "3  ...    8.0       7.0                 7.0              6.0   \n",
       "4  ...    8.0       7.0                 5.0              6.0   \n",
       "\n",
       "   intelligence_partner  funny_partner  ambition_partner  interests_correlate  \\\n",
       "0                   7.0            7.0               6.0                 0.14   \n",
       "1                   7.0            8.0               5.0                 0.54   \n",
       "2                   9.0            8.0               5.0                 0.16   \n",
       "3                   8.0            7.0               6.0                 0.61   \n",
       "4                   7.0            7.0               6.0                 0.21   \n",
       "\n",
       "   match  met  \n",
       "0      0  0.0  \n",
       "1      0  1.0  \n",
       "2      1  1.0  \n",
       "3      1  0.0  \n",
       "4      1  0.0  \n",
       "\n",
       "[5 rows x 21 columns]"
      ]
     },
     "execution_count": 63,
     "metadata": {},
     "output_type": "execute_result"
    }
   ],
   "source": [
    "import sklearn\n",
    "from sklearn.linear_model import LogisticRegression\n",
    "from sklearn.model_selection import train_test_split\n",
    "\n",
    "df.head()"
   ]
  },
  {
   "cell_type": "markdown",
   "metadata": {},
   "source": [
    "### Using 'd_age' to Predict Match (Logistic Regression)"
   ]
  },
  {
   "cell_type": "markdown",
   "metadata": {},
   "source": [
    "We first note that, in our data, most people didn't match. Because of this, it may be a good idea to downsample our data so that our model is able to better attempt at learning."
   ]
  },
  {
   "cell_type": "code",
   "execution_count": 64,
   "metadata": {},
   "outputs": [],
   "source": [
    "# downsampling our data\n",
    "\n",
    "filtered_df = df[df['match'] == 0]\n",
    "sampled_df = filtered_df.sample(n=2500)\n",
    "\n",
    "filtered_df2 = df[df['match'] == 1]\n",
    "dfx = pd.concat([sampled_df, filtered_df2], axis=0)\n",
    "\n",
    "X = dfx[['d_age']] # independent variable\n",
    "y = dfx['match'] # dependent variable\n",
    "\n",
    "# split the data into testing and training sets\n",
    "X_train, X_test, y_train, y_test = train_test_split(X, y, test_size=0.2, random_state=0)\n",
    "\n",
    "\n",
    "# create and fit the model to our data\n",
    "model = LogisticRegression()\n",
    "model = model.fit(X_train, y_train)"
   ]
  },
  {
   "cell_type": "markdown",
   "metadata": {},
   "source": [
    "Now that we have trained our model, we can use the test dataset that we split from to see how accurate our model is in predicting matches using difference in age."
   ]
  },
  {
   "cell_type": "code",
   "execution_count": 65,
   "metadata": {
    "scrolled": true
   },
   "outputs": [
    {
     "name": "stdout",
     "output_type": "stream",
     "text": [
      "The accuracy score is 0.6809651474530831\n"
     ]
    }
   ],
   "source": [
    "y_pred = model.predict(X_test)\n",
    "score = sklearn.metrics.accuracy_score(y_test, y_pred)\n",
    "print(\"The accuracy score is \"+ str(score))"
   ]
  },
  {
   "cell_type": "markdown",
   "metadata": {},
   "source": [
    "Our model isn't very accurate, as indicated by our low accuracy score. This indicates that difference in age alone isn't a good indicator of predicting matches in a pair."
   ]
  },
  {
   "cell_type": "markdown",
   "metadata": {},
   "source": [
    "### Using 'attractive' to Predict Match (Logistic Regression)"
   ]
  },
  {
   "cell_type": "markdown",
   "metadata": {},
   "source": [
    "Here we are trying to do something similar, but we use only attractiveness to predict matches."
   ]
  },
  {
   "cell_type": "code",
   "execution_count": 66,
   "metadata": {},
   "outputs": [
    {
     "name": "stdout",
     "output_type": "stream",
     "text": [
      "The accuracy score is 0.6809651474530831\n"
     ]
    }
   ],
   "source": [
    "X2 = dfx[['attractive']] # independent variable\n",
    "y = dfx['match'] # dependent variable\n",
    "\n",
    "# split the data into testing and training sets\n",
    "X2_train, X2_test, y_train, y_test = train_test_split(X2, y, test_size=0.2, random_state=0)\n",
    "\n",
    "\n",
    "# create and fit the model to our data\n",
    "model2 = LogisticRegression()\n",
    "model2 = model2.fit(X2_train, y_train)\n",
    "\n",
    "y_pred = model2.predict(X2_test)\n",
    "score = sklearn.metrics.accuracy_score(y_test, y_pred)\n",
    "print(\"The accuracy score is \"+ str(score))"
   ]
  },
  {
   "cell_type": "markdown",
   "metadata": {},
   "source": [
    "Our accuracy score is also very low - in fact, it was the same as our previous. This is very suspicious, so let's see what our model is actually predicting."
   ]
  },
  {
   "cell_type": "code",
   "execution_count": 67,
   "metadata": {
    "scrolled": false
   },
   "outputs": [
    {
     "name": "stdout",
     "output_type": "stream",
     "text": [
      "[0 0 0 0 0 0 0 0 0 0 0 0 0 0 0 0 0 0 0 0 0 0 0 0 0 0 0 0 0 0 0 0 0 0 0 0 0\n",
      " 0 0 0 0 0 0 0 0 0 0 0 0 0 0 0 0 0 0 0 0 0 0 0 0 0 0 0 0 0 0 0 0 0 0 0 0 0\n",
      " 0 0 0 0 0 0 0 0 0 0 0 0 0 0 0 0 0 0 0 0 0 0 0 0 0 0 0 0 0 0 0 0 0 0 0 0 0\n",
      " 0 0 0 0 0 0 0 0 0 0 0 0 0 0 0 0 0 0 0 0 0 0 0 0 0 0 0 0 0 0 0 0 0 0 0 0 0\n",
      " 0 0 0 0 0 0 0 0 0 0 0 0 0 0 0 0 0 0 0 0 0 0 0 0 0 0 0 0 0 0 0 0 0 0 0 0 0\n",
      " 0 0 0 0 0 0 0 0 0 0 0 0 0 0 0 0 0 0 0 0 0 0 0 0 0 0 0 0 0 0 0 0 0 0 0 0 0\n",
      " 0 0 0 0 0 0 0 0 0 0 0 0 0 0 0 0 0 0 0 0 0 0 0 0 0 0 0 0 0 0 0 0 0 0 0 0 0\n",
      " 0 0 0 0 0 0 0 0 0 0 0 0 0 0 0 0 0 0 0 0 0 0 0 0 0 0 0 0 0 0 0 0 0 0 0 0 0\n",
      " 0 0 0 0 0 0 0 0 0 0 0 0 0 0 0 0 0 0 0 0 0 0 0 0 0 0 0 0 0 0 0 0 0 0 0 0 0\n",
      " 0 0 0 0 0 0 0 0 0 0 0 0 0 0 0 0 0 0 0 0 0 0 0 0 0 0 0 0 0 0 0 0 0 0 0 0 0\n",
      " 0 0 0 0 0 0 0 0 0 0 0 0 0 0 0 0 0 0 0 0 0 0 0 0 0 0 0 0 0 0 0 0 0 0 0 0 0\n",
      " 0 0 0 0 0 0 0 0 0 0 0 0 0 0 0 0 0 0 0 0 0 0 0 0 0 0 0 0 0 0 0 0 0 0 0 0 0\n",
      " 0 0 0 0 0 0 0 0 0 0 0 0 0 0 0 0 0 0 0 0 0 0 0 0 0 0 0 0 0 0 0 0 0 0 0 0 0\n",
      " 0 0 0 0 0 0 0 0 0 0 0 0 0 0 0 0 0 0 0 0 0 0 0 0 0 0 0 0 0 0 0 0 0 0 0 0 0\n",
      " 0 0 0 0 0 0 0 0 0 0 0 0 0 0 0 0 0 0 0 0 0 0 0 0 0 0 0 0 0 0 0 0 0 0 0 0 0\n",
      " 0 0 0 0 0 0 0 0 0 0 0 0 0 0 0 0 0 0 0 0 0 0 0 0 0 0 0 0 0 0 0 0 0 0 0 0 0\n",
      " 0 0 0 0 0 0 0 0 0 0 0 0 0 0 0 0 0 0 0 0 0 0 0 0 0 0 0 0 0 0 0 0 0 0 0 0 0\n",
      " 0 0 0 0 0 0 0 0 0 0 0 0 0 0 0 0 0 0 0 0 0 0 0 0 0 0 0 0 0 0 0 0 0 0 0 0 0\n",
      " 0 0 0 0 0 0 0 0 0 0 0 0 0 0 0 0 0 0 0 0 0 0 0 0 0 0 0 0 0 0 0 0 0 0 0 0 0\n",
      " 0 0 0 0 0 0 0 0 0 0 0 0 0 0 0 0 0 0 0 0 0 0 0 0 0 0 0 0 0 0 0 0 0 0 0 0 0\n",
      " 0 0 0 0 0 0]\n"
     ]
    }
   ],
   "source": [
    "print(y_pred)"
   ]
  },
  {
   "cell_type": "markdown",
   "metadata": {},
   "source": [
    "As we can see, our model is ONLY predicting 0s. This means that our model wasn't able to find any patterns in the data that made it think a match is possible - in other words, our model is very pessimistic and doesn't believe any pair can match, only given difference in age, or only given how attractive one person thought of the other. If you think about it, this actually makes a lot of sense, because in order for a match to happen, both people would have to think positively of each other, it can't just be unidirectional."
   ]
  },
  {
   "cell_type": "markdown",
   "metadata": {},
   "source": [
    "### Using 'attractive' AND 'attractive_partner' to Predict Match (Logistic Regression)"
   ]
  },
  {
   "cell_type": "markdown",
   "metadata": {},
   "source": [
    "With this in mind, what if we took the opinions of BOTH people into account in terms of opinions in attractiveness? "
   ]
  },
  {
   "cell_type": "code",
   "execution_count": 68,
   "metadata": {},
   "outputs": [
    {
     "name": "stdout",
     "output_type": "stream",
     "text": [
      "The accuracy score is 0.7131367292225201\n",
      "[0 1 1 0 0 0 0 0 0 0 0 0 0 1 0 1 0 1 0 1 0 0 0 1 1 0 0 0 0 0 0 1 0 1 0 0 0\n",
      " 0 1 1 0 0 0 0 0 0 0 0 0 0 0 0 0 0 0 0 0 0 0 0 0 0 0 0 0 0 1 0 0 1 0 0 0 1\n",
      " 0 0 1 0 1 0 0 0 0 1 0 0 0 0 0 0 0 1 0 0 1 0 1 1 0 0 1 0 0 1 0 1 0 1 0 1 0\n",
      " 0 0 0 0 0 0 0 0 0 0 0 0 0 0 0 0 0 0 1 1 0 0 0 0 0 0 0 0 1 0 0 0 0 0 1 0 0\n",
      " 1 1 0 0 1 0 0 0 0 0 0 0 0 0 0 0 1 0 0 1 0 0 0 0 0 0 0 0 1 0 1 1 1 0 0 0 1\n",
      " 0 0 0 0 0 0 0 0 0 0 0 1 0 0 0 0 0 0 0 0 0 0 0 0 0 1 1 0 0 0 0 0 0 0 1 0 0\n",
      " 0 0 0 0 1 0 0 0 0 0 0 0 0 0 1 0 0 0 0 0 0 0 0 1 0 0 0 0 1 0 0 0 0 0 0 0 0\n",
      " 0 0 0 0 0 0 0 0 0 0 1 0 1 0 1 1 0 0 0 0 0 0 1 0 0 0 0 1 1 0 0 0 0 0 0 0 0\n",
      " 0 1 0 1 0 0 0 0 0 0 1 0 0 1 0 0 0 0 0 0 0 0 0 1 0 1 0 0 1 1 0 0 0 0 0 0 0\n",
      " 0 0 1 0 0 0 0 0 1 0 0 0 0 0 0 1 0 0 1 0 0 0 0 1 0 0 1 1 0 1 1 0 1 0 0 1 0\n",
      " 0 0 0 0 1 0 1 0 0 0 0 1 0 0 0 0 0 0 0 0 0 1 0 0 0 1 0 1 1 0 0 0 0 0 0 0 0\n",
      " 1 0 0 0 0 1 0 0 1 0 1 0 0 1 0 1 0 1 0 0 0 0 1 1 0 0 0 0 0 0 0 0 1 0 1 0 1\n",
      " 0 0 0 0 0 0 0 0 1 0 0 0 0 0 0 0 0 0 0 0 0 0 0 0 0 0 0 0 0 0 1 0 0 1 1 0 1\n",
      " 1 0 0 0 1 0 0 0 0 0 1 0 0 1 0 1 0 0 1 0 1 0 0 1 1 0 0 0 0 0 1 1 0 0 1 0 0\n",
      " 0 0 1 1 0 0 0 0 0 0 1 0 0 0 0 0 1 0 0 0 0 0 0 1 0 0 0 0 1 1 0 0 0 0 0 0 0\n",
      " 0 1 0 0 0 1 0 1 0 0 0 0 0 0 0 0 0 0 0 0 0 0 1 0 0 0 0 0 0 0 0 1 0 0 0 0 1\n",
      " 0 0 0 0 0 0 1 0 0 1 0 0 1 0 0 0 1 0 0 0 0 0 0 1 0 0 0 0 0 0 0 1 0 0 0 0 0\n",
      " 0 1 0 0 0 1 0 0 0 1 1 1 0 0 0 0 0 0 0 0 0 0 0 1 0 0 0 0 1 0 1 0 1 0 0 1 0\n",
      " 0 0 0 0 0 0 0 0 1 0 0 0 1 0 0 1 0 0 0 0 1 0 0 0 0 1 0 0 0 0 1 0 0 1 0 0 0\n",
      " 0 0 0 0 0 1 0 0 0 0 0 0 0 0 0 0 0 0 0 0 0 0 0 1 0 1 0 0 1 1 1 0 1 0 0 0 0\n",
      " 0 0 0 0 0 0]\n"
     ]
    }
   ],
   "source": [
    "X3 = dfx[['attractive', 'attractive_partner']] # independent variable\n",
    "y = dfx['match'] # dependent variable\n",
    "\n",
    "# split the data into testing and training sets\n",
    "X3_train, X3_test, y_train, y_test = train_test_split(X3, y, test_size=0.2, random_state=0)\n",
    "\n",
    "\n",
    "# create and fit the model to our data\n",
    "model3 = LogisticRegression()\n",
    "model3 = model3.fit(X3_train, y_train)\n",
    "\n",
    "y_pred = model3.predict(X3_test)\n",
    "score = sklearn.metrics.accuracy_score(y_test, y_pred)\n",
    "print(\"The accuracy score is \"+ str(score))\n",
    "print(y_pred)"
   ]
  },
  {
   "cell_type": "markdown",
   "metadata": {},
   "source": [
    "This is a little bit better! If we are looking at what our model is predicting, it is actually predicting some pairs to match with each other. Granted, it's still not SUPER accurate, but all this means is that trying to predict matches is still an extremely difficult task, even when you have the opinions of what both people think of each other in terms of attractiveness."
   ]
  },
  {
   "cell_type": "markdown",
   "metadata": {},
   "source": [
    "### Apply Logistic Regression with All Features"
   ]
  },
  {
   "cell_type": "markdown",
   "metadata": {},
   "source": [
    "Let's try playing around with more variables, and see if we are able to have an improvement. We will also try and use qualitative features to help predict, using one-hot encoding. After playing around a bit, this is the best that we came up with:"
   ]
  },
  {
   "cell_type": "code",
   "execution_count": 69,
   "metadata": {},
   "outputs": [
    {
     "data": {
      "text/html": [
       "<div>\n",
       "<style scoped>\n",
       "    .dataframe tbody tr th:only-of-type {\n",
       "        vertical-align: middle;\n",
       "    }\n",
       "\n",
       "    .dataframe tbody tr th {\n",
       "        vertical-align: top;\n",
       "    }\n",
       "\n",
       "    .dataframe thead th {\n",
       "        text-align: right;\n",
       "    }\n",
       "</style>\n",
       "<table border=\"1\" class=\"dataframe\">\n",
       "  <thead>\n",
       "    <tr style=\"text-align: right;\">\n",
       "      <th></th>\n",
       "      <th>age</th>\n",
       "      <th>age_o</th>\n",
       "      <th>d_age</th>\n",
       "      <th>samerace</th>\n",
       "      <th>attractive</th>\n",
       "      <th>sincere</th>\n",
       "      <th>intelligence</th>\n",
       "      <th>funny</th>\n",
       "      <th>ambition</th>\n",
       "      <th>attractive_partner</th>\n",
       "      <th>...</th>\n",
       "      <th>field_Medicine</th>\n",
       "      <th>field_Other</th>\n",
       "      <th>field_Physics</th>\n",
       "      <th>field_Political Science</th>\n",
       "      <th>field_Psychology</th>\n",
       "      <th>field_Research</th>\n",
       "      <th>field_Science</th>\n",
       "      <th>field_Social Work</th>\n",
       "      <th>field_Sociology</th>\n",
       "      <th>field_Statisitcs</th>\n",
       "    </tr>\n",
       "  </thead>\n",
       "  <tbody>\n",
       "    <tr>\n",
       "      <th>5728</th>\n",
       "      <td>29.0</td>\n",
       "      <td>24.0</td>\n",
       "      <td>5.0</td>\n",
       "      <td>1</td>\n",
       "      <td>6.0</td>\n",
       "      <td>7.0</td>\n",
       "      <td>7.0</td>\n",
       "      <td>9.0</td>\n",
       "      <td>7.0</td>\n",
       "      <td>7.0</td>\n",
       "      <td>...</td>\n",
       "      <td>0</td>\n",
       "      <td>0</td>\n",
       "      <td>0</td>\n",
       "      <td>0</td>\n",
       "      <td>0</td>\n",
       "      <td>0</td>\n",
       "      <td>0</td>\n",
       "      <td>0</td>\n",
       "      <td>0</td>\n",
       "      <td>0</td>\n",
       "    </tr>\n",
       "    <tr>\n",
       "      <th>1342</th>\n",
       "      <td>28.0</td>\n",
       "      <td>22.0</td>\n",
       "      <td>6.0</td>\n",
       "      <td>0</td>\n",
       "      <td>6.0</td>\n",
       "      <td>9.0</td>\n",
       "      <td>9.0</td>\n",
       "      <td>9.0</td>\n",
       "      <td>7.0</td>\n",
       "      <td>6.0</td>\n",
       "      <td>...</td>\n",
       "      <td>0</td>\n",
       "      <td>0</td>\n",
       "      <td>0</td>\n",
       "      <td>0</td>\n",
       "      <td>0</td>\n",
       "      <td>0</td>\n",
       "      <td>0</td>\n",
       "      <td>0</td>\n",
       "      <td>0</td>\n",
       "      <td>0</td>\n",
       "    </tr>\n",
       "    <tr>\n",
       "      <th>3520</th>\n",
       "      <td>25.0</td>\n",
       "      <td>27.0</td>\n",
       "      <td>2.0</td>\n",
       "      <td>1</td>\n",
       "      <td>7.0</td>\n",
       "      <td>8.0</td>\n",
       "      <td>6.0</td>\n",
       "      <td>7.0</td>\n",
       "      <td>6.0</td>\n",
       "      <td>6.0</td>\n",
       "      <td>...</td>\n",
       "      <td>0</td>\n",
       "      <td>1</td>\n",
       "      <td>0</td>\n",
       "      <td>0</td>\n",
       "      <td>0</td>\n",
       "      <td>0</td>\n",
       "      <td>0</td>\n",
       "      <td>0</td>\n",
       "      <td>0</td>\n",
       "      <td>0</td>\n",
       "    </tr>\n",
       "    <tr>\n",
       "      <th>6731</th>\n",
       "      <td>28.0</td>\n",
       "      <td>23.0</td>\n",
       "      <td>5.0</td>\n",
       "      <td>0</td>\n",
       "      <td>6.0</td>\n",
       "      <td>8.0</td>\n",
       "      <td>9.0</td>\n",
       "      <td>7.0</td>\n",
       "      <td>5.0</td>\n",
       "      <td>5.0</td>\n",
       "      <td>...</td>\n",
       "      <td>0</td>\n",
       "      <td>0</td>\n",
       "      <td>0</td>\n",
       "      <td>0</td>\n",
       "      <td>0</td>\n",
       "      <td>0</td>\n",
       "      <td>0</td>\n",
       "      <td>0</td>\n",
       "      <td>0</td>\n",
       "      <td>0</td>\n",
       "    </tr>\n",
       "    <tr>\n",
       "      <th>475</th>\n",
       "      <td>23.0</td>\n",
       "      <td>24.0</td>\n",
       "      <td>1.0</td>\n",
       "      <td>0</td>\n",
       "      <td>8.0</td>\n",
       "      <td>2.0</td>\n",
       "      <td>7.0</td>\n",
       "      <td>8.0</td>\n",
       "      <td>8.0</td>\n",
       "      <td>3.0</td>\n",
       "      <td>...</td>\n",
       "      <td>0</td>\n",
       "      <td>0</td>\n",
       "      <td>0</td>\n",
       "      <td>0</td>\n",
       "      <td>0</td>\n",
       "      <td>0</td>\n",
       "      <td>0</td>\n",
       "      <td>0</td>\n",
       "      <td>0</td>\n",
       "      <td>0</td>\n",
       "    </tr>\n",
       "    <tr>\n",
       "      <th>...</th>\n",
       "      <td>...</td>\n",
       "      <td>...</td>\n",
       "      <td>...</td>\n",
       "      <td>...</td>\n",
       "      <td>...</td>\n",
       "      <td>...</td>\n",
       "      <td>...</td>\n",
       "      <td>...</td>\n",
       "      <td>...</td>\n",
       "      <td>...</td>\n",
       "      <td>...</td>\n",
       "      <td>...</td>\n",
       "      <td>...</td>\n",
       "      <td>...</td>\n",
       "      <td>...</td>\n",
       "      <td>...</td>\n",
       "      <td>...</td>\n",
       "      <td>...</td>\n",
       "      <td>...</td>\n",
       "      <td>...</td>\n",
       "      <td>...</td>\n",
       "    </tr>\n",
       "    <tr>\n",
       "      <th>8356</th>\n",
       "      <td>25.0</td>\n",
       "      <td>28.0</td>\n",
       "      <td>3.0</td>\n",
       "      <td>0</td>\n",
       "      <td>8.0</td>\n",
       "      <td>7.0</td>\n",
       "      <td>6.0</td>\n",
       "      <td>7.0</td>\n",
       "      <td>7.0</td>\n",
       "      <td>7.0</td>\n",
       "      <td>...</td>\n",
       "      <td>0</td>\n",
       "      <td>1</td>\n",
       "      <td>0</td>\n",
       "      <td>0</td>\n",
       "      <td>0</td>\n",
       "      <td>0</td>\n",
       "      <td>0</td>\n",
       "      <td>0</td>\n",
       "      <td>0</td>\n",
       "      <td>0</td>\n",
       "    </tr>\n",
       "    <tr>\n",
       "      <th>8357</th>\n",
       "      <td>25.0</td>\n",
       "      <td>26.0</td>\n",
       "      <td>1.0</td>\n",
       "      <td>0</td>\n",
       "      <td>8.0</td>\n",
       "      <td>7.0</td>\n",
       "      <td>6.0</td>\n",
       "      <td>7.0</td>\n",
       "      <td>7.0</td>\n",
       "      <td>9.0</td>\n",
       "      <td>...</td>\n",
       "      <td>0</td>\n",
       "      <td>1</td>\n",
       "      <td>0</td>\n",
       "      <td>0</td>\n",
       "      <td>0</td>\n",
       "      <td>0</td>\n",
       "      <td>0</td>\n",
       "      <td>0</td>\n",
       "      <td>0</td>\n",
       "      <td>0</td>\n",
       "    </tr>\n",
       "    <tr>\n",
       "      <th>8362</th>\n",
       "      <td>25.0</td>\n",
       "      <td>23.0</td>\n",
       "      <td>2.0</td>\n",
       "      <td>1</td>\n",
       "      <td>8.0</td>\n",
       "      <td>7.0</td>\n",
       "      <td>6.0</td>\n",
       "      <td>7.0</td>\n",
       "      <td>7.0</td>\n",
       "      <td>7.0</td>\n",
       "      <td>...</td>\n",
       "      <td>0</td>\n",
       "      <td>1</td>\n",
       "      <td>0</td>\n",
       "      <td>0</td>\n",
       "      <td>0</td>\n",
       "      <td>0</td>\n",
       "      <td>0</td>\n",
       "      <td>0</td>\n",
       "      <td>0</td>\n",
       "      <td>0</td>\n",
       "    </tr>\n",
       "    <tr>\n",
       "      <th>8363</th>\n",
       "      <td>25.0</td>\n",
       "      <td>27.0</td>\n",
       "      <td>2.0</td>\n",
       "      <td>0</td>\n",
       "      <td>8.0</td>\n",
       "      <td>7.0</td>\n",
       "      <td>6.0</td>\n",
       "      <td>7.0</td>\n",
       "      <td>7.0</td>\n",
       "      <td>8.0</td>\n",
       "      <td>...</td>\n",
       "      <td>0</td>\n",
       "      <td>1</td>\n",
       "      <td>0</td>\n",
       "      <td>0</td>\n",
       "      <td>0</td>\n",
       "      <td>0</td>\n",
       "      <td>0</td>\n",
       "      <td>0</td>\n",
       "      <td>0</td>\n",
       "      <td>0</td>\n",
       "    </tr>\n",
       "    <tr>\n",
       "      <th>8371</th>\n",
       "      <td>25.0</td>\n",
       "      <td>25.0</td>\n",
       "      <td>0.0</td>\n",
       "      <td>0</td>\n",
       "      <td>8.0</td>\n",
       "      <td>7.0</td>\n",
       "      <td>6.0</td>\n",
       "      <td>7.0</td>\n",
       "      <td>7.0</td>\n",
       "      <td>8.0</td>\n",
       "      <td>...</td>\n",
       "      <td>0</td>\n",
       "      <td>1</td>\n",
       "      <td>0</td>\n",
       "      <td>0</td>\n",
       "      <td>0</td>\n",
       "      <td>0</td>\n",
       "      <td>0</td>\n",
       "      <td>0</td>\n",
       "      <td>0</td>\n",
       "      <td>0</td>\n",
       "    </tr>\n",
       "  </tbody>\n",
       "</table>\n",
       "<p>3730 rows × 59 columns</p>\n",
       "</div>"
      ],
      "text/plain": [
       "       age  age_o  d_age samerace  attractive  sincere  intelligence  funny  \\\n",
       "5728  29.0   24.0    5.0        1         6.0      7.0           7.0    9.0   \n",
       "1342  28.0   22.0    6.0        0         6.0      9.0           9.0    9.0   \n",
       "3520  25.0   27.0    2.0        1         7.0      8.0           6.0    7.0   \n",
       "6731  28.0   23.0    5.0        0         6.0      8.0           9.0    7.0   \n",
       "475   23.0   24.0    1.0        0         8.0      2.0           7.0    8.0   \n",
       "...    ...    ...    ...      ...         ...      ...           ...    ...   \n",
       "8356  25.0   28.0    3.0        0         8.0      7.0           6.0    7.0   \n",
       "8357  25.0   26.0    1.0        0         8.0      7.0           6.0    7.0   \n",
       "8362  25.0   23.0    2.0        1         8.0      7.0           6.0    7.0   \n",
       "8363  25.0   27.0    2.0        0         8.0      7.0           6.0    7.0   \n",
       "8371  25.0   25.0    0.0        0         8.0      7.0           6.0    7.0   \n",
       "\n",
       "      ambition  attractive_partner  ...  field_Medicine  field_Other  \\\n",
       "5728       7.0                 7.0  ...               0            0   \n",
       "1342       7.0                 6.0  ...               0            0   \n",
       "3520       6.0                 6.0  ...               0            1   \n",
       "6731       5.0                 5.0  ...               0            0   \n",
       "475        8.0                 3.0  ...               0            0   \n",
       "...        ...                 ...  ...             ...          ...   \n",
       "8356       7.0                 7.0  ...               0            1   \n",
       "8357       7.0                 9.0  ...               0            1   \n",
       "8362       7.0                 7.0  ...               0            1   \n",
       "8363       7.0                 8.0  ...               0            1   \n",
       "8371       7.0                 8.0  ...               0            1   \n",
       "\n",
       "      field_Physics  field_Political Science  field_Psychology  \\\n",
       "5728              0                        0                 0   \n",
       "1342              0                        0                 0   \n",
       "3520              0                        0                 0   \n",
       "6731              0                        0                 0   \n",
       "475               0                        0                 0   \n",
       "...             ...                      ...               ...   \n",
       "8356              0                        0                 0   \n",
       "8357              0                        0                 0   \n",
       "8362              0                        0                 0   \n",
       "8363              0                        0                 0   \n",
       "8371              0                        0                 0   \n",
       "\n",
       "      field_Research  field_Science  field_Social Work  field_Sociology  \\\n",
       "5728               0              0                  0                0   \n",
       "1342               0              0                  0                0   \n",
       "3520               0              0                  0                0   \n",
       "6731               0              0                  0                0   \n",
       "475                0              0                  0                0   \n",
       "...              ...            ...                ...              ...   \n",
       "8356               0              0                  0                0   \n",
       "8357               0              0                  0                0   \n",
       "8362               0              0                  0                0   \n",
       "8363               0              0                  0                0   \n",
       "8371               0              0                  0                0   \n",
       "\n",
       "      field_Statisitcs  \n",
       "5728                 0  \n",
       "1342                 0  \n",
       "3520                 0  \n",
       "6731                 0  \n",
       "475                  0  \n",
       "...                ...  \n",
       "8356                 0  \n",
       "8357                 0  \n",
       "8362                 0  \n",
       "8363                 0  \n",
       "8371                 0  \n",
       "\n",
       "[3730 rows x 59 columns]"
      ]
     },
     "execution_count": 69,
     "metadata": {},
     "output_type": "execute_result"
    }
   ],
   "source": [
    "# one-hot encoding qualitative features,\n",
    "# which is easy to do now, using get_dummies() \n",
    "dfx_train = dfx.loc[:, ~dfx.columns.isin(['match'])]\n",
    "dfx_train_encoded = pd.get_dummies(dfx_train, columns=['gender', 'race', 'race_o', 'field'])\n",
    "dfx_train_encoded"
   ]
  },
  {
   "cell_type": "code",
   "execution_count": 70,
   "metadata": {},
   "outputs": [],
   "source": [
    "X = dfx_train_encoded # independent variables\n",
    "y = dfx['match'] # dependent variable\n",
    "\n",
    "# Test and train split\n",
    "X_train, X_test, y_train, y_test = train_test_split(X, y, test_size=0.2, random_state=80)\n"
   ]
  },
  {
   "cell_type": "code",
   "execution_count": 71,
   "metadata": {
    "scrolled": false
   },
   "outputs": [
    {
     "name": "stderr",
     "output_type": "stream",
     "text": [
      "/opt/conda/lib/python3.9/site-packages/sklearn/linear_model/_logistic.py:763: ConvergenceWarning: lbfgs failed to converge (status=1):\n",
      "STOP: TOTAL NO. of ITERATIONS REACHED LIMIT.\n",
      "\n",
      "Increase the number of iterations (max_iter) or scale the data as shown in:\n",
      "    https://scikit-learn.org/stable/modules/preprocessing.html\n",
      "Please also refer to the documentation for alternative solver options:\n",
      "    https://scikit-learn.org/stable/modules/linear_model.html#logistic-regression\n",
      "  n_iter_i = _check_optimize_result(\n"
     ]
    },
    {
     "name": "stdout",
     "output_type": "stream",
     "text": [
      "The accuracy score is 0.7439678284182306\n"
     ]
    }
   ],
   "source": [
    "# create and fit the LogisticRegression model to all data\n",
    "model = LogisticRegression()\n",
    "model = model.fit(X_train, y_train)\n",
    "\n",
    "# make predictions and get accuracy score\n",
    "y_pred = model.predict(X_test)\n",
    "score = sklearn.metrics.accuracy_score(y_test, y_pred)\n",
    "print(\"The accuracy score is \"+ str(score))"
   ]
  },
  {
   "cell_type": "code",
   "execution_count": 72,
   "metadata": {},
   "outputs": [
    {
     "data": {
      "text/html": [
       "<div>\n",
       "<style scoped>\n",
       "    .dataframe tbody tr th:only-of-type {\n",
       "        vertical-align: middle;\n",
       "    }\n",
       "\n",
       "    .dataframe tbody tr th {\n",
       "        vertical-align: top;\n",
       "    }\n",
       "\n",
       "    .dataframe thead th {\n",
       "        text-align: right;\n",
       "    }\n",
       "</style>\n",
       "<table border=\"1\" class=\"dataframe\">\n",
       "  <thead>\n",
       "    <tr style=\"text-align: right;\">\n",
       "      <th></th>\n",
       "      <th>Feature</th>\n",
       "      <th>Importance</th>\n",
       "    </tr>\n",
       "  </thead>\n",
       "  <tbody>\n",
       "    <tr>\n",
       "      <th>15</th>\n",
       "      <td>met</td>\n",
       "      <td>1.073794</td>\n",
       "    </tr>\n",
       "    <tr>\n",
       "      <th>49</th>\n",
       "      <td>field_Medicine</td>\n",
       "      <td>0.751100</td>\n",
       "    </tr>\n",
       "    <tr>\n",
       "      <th>33</th>\n",
       "      <td>field_Business</td>\n",
       "      <td>0.580084</td>\n",
       "    </tr>\n",
       "    <tr>\n",
       "      <th>39</th>\n",
       "      <td>field_Finance</td>\n",
       "      <td>0.472618</td>\n",
       "    </tr>\n",
       "    <tr>\n",
       "      <th>14</th>\n",
       "      <td>interests_correlate</td>\n",
       "      <td>0.412983</td>\n",
       "    </tr>\n",
       "    <tr>\n",
       "      <th>29</th>\n",
       "      <td>field_Administration</td>\n",
       "      <td>0.378401</td>\n",
       "    </tr>\n",
       "    <tr>\n",
       "      <th>52</th>\n",
       "      <td>field_Political Science</td>\n",
       "      <td>0.342597</td>\n",
       "    </tr>\n",
       "    <tr>\n",
       "      <th>9</th>\n",
       "      <td>attractive_partner</td>\n",
       "      <td>0.324950</td>\n",
       "    </tr>\n",
       "    <tr>\n",
       "      <th>12</th>\n",
       "      <td>funny_partner</td>\n",
       "      <td>0.294018</td>\n",
       "    </tr>\n",
       "    <tr>\n",
       "      <th>21</th>\n",
       "      <td>race_Latino/Hispanic American</td>\n",
       "      <td>0.270167</td>\n",
       "    </tr>\n",
       "    <tr>\n",
       "      <th>3</th>\n",
       "      <td>samerace</td>\n",
       "      <td>0.259443</td>\n",
       "    </tr>\n",
       "    <tr>\n",
       "      <th>57</th>\n",
       "      <td>field_Sociology</td>\n",
       "      <td>0.246331</td>\n",
       "    </tr>\n",
       "    <tr>\n",
       "      <th>46</th>\n",
       "      <td>field_Literature</td>\n",
       "      <td>0.182362</td>\n",
       "    </tr>\n",
       "    <tr>\n",
       "      <th>23</th>\n",
       "      <td>race_o_?</td>\n",
       "      <td>0.182302</td>\n",
       "    </tr>\n",
       "    <tr>\n",
       "      <th>43</th>\n",
       "      <td>field_Journalism</td>\n",
       "      <td>0.181435</td>\n",
       "    </tr>\n",
       "    <tr>\n",
       "      <th>47</th>\n",
       "      <td>field_MBA</td>\n",
       "      <td>0.122836</td>\n",
       "    </tr>\n",
       "    <tr>\n",
       "      <th>11</th>\n",
       "      <td>intelligence_partner</td>\n",
       "      <td>0.118381</td>\n",
       "    </tr>\n",
       "    <tr>\n",
       "      <th>28</th>\n",
       "      <td>race_o_Other</td>\n",
       "      <td>0.105482</td>\n",
       "    </tr>\n",
       "    <tr>\n",
       "      <th>53</th>\n",
       "      <td>field_Psychology</td>\n",
       "      <td>0.084568</td>\n",
       "    </tr>\n",
       "    <tr>\n",
       "      <th>4</th>\n",
       "      <td>attractive</td>\n",
       "      <td>0.063651</td>\n",
       "    </tr>\n",
       "  </tbody>\n",
       "</table>\n",
       "</div>"
      ],
      "text/plain": [
       "                          Feature  Importance\n",
       "15                            met    1.073794\n",
       "49                 field_Medicine    0.751100\n",
       "33                 field_Business    0.580084\n",
       "39                  field_Finance    0.472618\n",
       "14            interests_correlate    0.412983\n",
       "29           field_Administration    0.378401\n",
       "52        field_Political Science    0.342597\n",
       "9              attractive_partner    0.324950\n",
       "12                  funny_partner    0.294018\n",
       "21  race_Latino/Hispanic American    0.270167\n",
       "3                        samerace    0.259443\n",
       "57                field_Sociology    0.246331\n",
       "46               field_Literature    0.182362\n",
       "23                       race_o_?    0.182302\n",
       "43               field_Journalism    0.181435\n",
       "47                      field_MBA    0.122836\n",
       "11           intelligence_partner    0.118381\n",
       "28                   race_o_Other    0.105482\n",
       "53               field_Psychology    0.084568\n",
       "4                      attractive    0.063651"
      ]
     },
     "execution_count": 72,
     "metadata": {},
     "output_type": "execute_result"
    }
   ],
   "source": [
    "# dataframe with the importance of each feature\n",
    "importance = model.coef_[0]\n",
    "pd.DataFrame(list(zip(X.columns,importance)), columns=['Feature', 'Importance']).sort_values(by=['Importance'], ascending=False).head(20)"
   ]
  },
  {
   "cell_type": "markdown",
   "metadata": {},
   "source": [
    "As we can see, this is a LITTLE bit better, but not substantially. Our accuracy score is still low and none of the variables, besides 'met', have a significance. But from this model, we can still see that the individual's sense of humor (negatively correlated), their perception of their partner's sense of humor, their perception of their partner's attractiveness, having shared interests, and having met in person are the most important factors in determining a match. However, since our accuracy score is still low, it's likely that we need more variables than the ones we have to predict compatability. \n",
    "\n",
    "But it's possible that our accuracy will improve using a different model type. Let's apply a DecisionTree and RandomForest and see how they signify the importance of each factor."
   ]
  },
  {
   "cell_type": "markdown",
   "metadata": {},
   "source": [
    "### Apply DecisionTree Model with All Features"
   ]
  },
  {
   "cell_type": "code",
   "execution_count": 73,
   "metadata": {},
   "outputs": [
    {
     "data": {
      "text/plain": [
       "DecisionTreeClassifier()"
      ]
     },
     "execution_count": 73,
     "metadata": {},
     "output_type": "execute_result"
    }
   ],
   "source": [
    "from sklearn.tree import DecisionTreeClassifier\n",
    "\n",
    "# Create and fit the DecisionTree model\n",
    "model_tree = DecisionTreeClassifier()\n",
    "model_tree.fit(X_train, y_train)"
   ]
  },
  {
   "cell_type": "code",
   "execution_count": 74,
   "metadata": {},
   "outputs": [
    {
     "name": "stdout",
     "output_type": "stream",
     "text": [
      "The accuracy score is 0.6689008042895442\n"
     ]
    }
   ],
   "source": [
    "# make predictions and get accuracy score\n",
    "y_pred = model_tree.predict(X_test)\n",
    "score = sklearn.metrics.accuracy_score(y_test, y_pred)\n",
    "print(\"The accuracy score is \"+ str(score))"
   ]
  },
  {
   "cell_type": "code",
   "execution_count": 75,
   "metadata": {},
   "outputs": [
    {
     "data": {
      "text/html": [
       "<div>\n",
       "<style scoped>\n",
       "    .dataframe tbody tr th:only-of-type {\n",
       "        vertical-align: middle;\n",
       "    }\n",
       "\n",
       "    .dataframe tbody tr th {\n",
       "        vertical-align: top;\n",
       "    }\n",
       "\n",
       "    .dataframe thead th {\n",
       "        text-align: right;\n",
       "    }\n",
       "</style>\n",
       "<table border=\"1\" class=\"dataframe\">\n",
       "  <thead>\n",
       "    <tr style=\"text-align: right;\">\n",
       "      <th></th>\n",
       "      <th>Feature</th>\n",
       "      <th>Importance</th>\n",
       "    </tr>\n",
       "  </thead>\n",
       "  <tbody>\n",
       "    <tr>\n",
       "      <th>9</th>\n",
       "      <td>attractive_partner</td>\n",
       "      <td>0.138440</td>\n",
       "    </tr>\n",
       "    <tr>\n",
       "      <th>14</th>\n",
       "      <td>interests_correlate</td>\n",
       "      <td>0.123706</td>\n",
       "    </tr>\n",
       "    <tr>\n",
       "      <th>12</th>\n",
       "      <td>funny_partner</td>\n",
       "      <td>0.079210</td>\n",
       "    </tr>\n",
       "    <tr>\n",
       "      <th>1</th>\n",
       "      <td>age_o</td>\n",
       "      <td>0.071862</td>\n",
       "    </tr>\n",
       "    <tr>\n",
       "      <th>2</th>\n",
       "      <td>d_age</td>\n",
       "      <td>0.045876</td>\n",
       "    </tr>\n",
       "    <tr>\n",
       "      <th>10</th>\n",
       "      <td>sincere_partner</td>\n",
       "      <td>0.045304</td>\n",
       "    </tr>\n",
       "    <tr>\n",
       "      <th>8</th>\n",
       "      <td>ambition</td>\n",
       "      <td>0.039421</td>\n",
       "    </tr>\n",
       "    <tr>\n",
       "      <th>4</th>\n",
       "      <td>attractive</td>\n",
       "      <td>0.036701</td>\n",
       "    </tr>\n",
       "    <tr>\n",
       "      <th>13</th>\n",
       "      <td>ambition_partner</td>\n",
       "      <td>0.034873</td>\n",
       "    </tr>\n",
       "    <tr>\n",
       "      <th>6</th>\n",
       "      <td>intelligence</td>\n",
       "      <td>0.033819</td>\n",
       "    </tr>\n",
       "  </tbody>\n",
       "</table>\n",
       "</div>"
      ],
      "text/plain": [
       "                Feature  Importance\n",
       "9    attractive_partner    0.138440\n",
       "14  interests_correlate    0.123706\n",
       "12        funny_partner    0.079210\n",
       "1                 age_o    0.071862\n",
       "2                 d_age    0.045876\n",
       "10      sincere_partner    0.045304\n",
       "8              ambition    0.039421\n",
       "4            attractive    0.036701\n",
       "13     ambition_partner    0.034873\n",
       "6          intelligence    0.033819"
      ]
     },
     "execution_count": 75,
     "metadata": {},
     "output_type": "execute_result"
    }
   ],
   "source": [
    "# dataframe with the importance of each feature\n",
    "\n",
    "importance = model_tree.feature_importances_\n",
    "pd.DataFrame(list(zip(X.columns,importance)), columns=['Feature', 'Importance']).sort_values(by=['Importance'], ascending=False).head(10)"
   ]
  },
  {
   "cell_type": "markdown",
   "metadata": {},
   "source": [
    "### Apply Random Forest Model to All Features"
   ]
  },
  {
   "cell_type": "code",
   "execution_count": 76,
   "metadata": {},
   "outputs": [],
   "source": [
    "from sklearn.ensemble import RandomForestClassifier"
   ]
  },
  {
   "cell_type": "markdown",
   "metadata": {},
   "source": [
    "Here we try Random Forest model and we believe it may perform better than basic DecisionTree model, since random forest is an ensemble of multiple decision trees and usually performs better under high-dimensional data, which is indeed what we are dealing with. Another thing to note is that Random Forest model will also help us prevent the model from over-fitting (by increasing the number of random trees in the forest or limiting the depth of the trees)."
   ]
  },
  {
   "cell_type": "code",
   "execution_count": 77,
   "metadata": {},
   "outputs": [
    {
     "data": {
      "text/plain": [
       "RandomForestClassifier(max_depth=100, random_state=80)"
      ]
     },
     "execution_count": 77,
     "metadata": {},
     "output_type": "execute_result"
    }
   ],
   "source": [
    "# initialize a Random Forest classifier model\n",
    "model_tree1 = RandomForestClassifier(n_estimators=100, max_depth=100, random_state=80)\n",
    "\n",
    "model_tree1.fit(X_train, y_train)"
   ]
  },
  {
   "cell_type": "code",
   "execution_count": 78,
   "metadata": {},
   "outputs": [
    {
     "name": "stdout",
     "output_type": "stream",
     "text": [
      "The accuracy score is 0.7479892761394102\n"
     ]
    }
   ],
   "source": [
    "# make predictions and get accuracy score\n",
    "y_pred = model_tree1.predict(X_test)\n",
    "score = sklearn.metrics.accuracy_score(y_test, y_pred)\n",
    "print(\"The accuracy score is \"+ str(score))"
   ]
  },
  {
   "cell_type": "code",
   "execution_count": 79,
   "metadata": {},
   "outputs": [
    {
     "data": {
      "text/html": [
       "<div>\n",
       "<style scoped>\n",
       "    .dataframe tbody tr th:only-of-type {\n",
       "        vertical-align: middle;\n",
       "    }\n",
       "\n",
       "    .dataframe tbody tr th {\n",
       "        vertical-align: top;\n",
       "    }\n",
       "\n",
       "    .dataframe thead th {\n",
       "        text-align: right;\n",
       "    }\n",
       "</style>\n",
       "<table border=\"1\" class=\"dataframe\">\n",
       "  <thead>\n",
       "    <tr style=\"text-align: right;\">\n",
       "      <th></th>\n",
       "      <th>Feature</th>\n",
       "      <th>Importance</th>\n",
       "    </tr>\n",
       "  </thead>\n",
       "  <tbody>\n",
       "    <tr>\n",
       "      <th>9</th>\n",
       "      <td>attractive_partner</td>\n",
       "      <td>0.095586</td>\n",
       "    </tr>\n",
       "    <tr>\n",
       "      <th>12</th>\n",
       "      <td>funny_partner</td>\n",
       "      <td>0.091027</td>\n",
       "    </tr>\n",
       "    <tr>\n",
       "      <th>14</th>\n",
       "      <td>interests_correlate</td>\n",
       "      <td>0.081291</td>\n",
       "    </tr>\n",
       "    <tr>\n",
       "      <th>1</th>\n",
       "      <td>age_o</td>\n",
       "      <td>0.058456</td>\n",
       "    </tr>\n",
       "    <tr>\n",
       "      <th>2</th>\n",
       "      <td>d_age</td>\n",
       "      <td>0.049997</td>\n",
       "    </tr>\n",
       "    <tr>\n",
       "      <th>10</th>\n",
       "      <td>sincere_partner</td>\n",
       "      <td>0.048337</td>\n",
       "    </tr>\n",
       "    <tr>\n",
       "      <th>0</th>\n",
       "      <td>age</td>\n",
       "      <td>0.046691</td>\n",
       "    </tr>\n",
       "    <tr>\n",
       "      <th>11</th>\n",
       "      <td>intelligence_partner</td>\n",
       "      <td>0.046375</td>\n",
       "    </tr>\n",
       "    <tr>\n",
       "      <th>13</th>\n",
       "      <td>ambition_partner</td>\n",
       "      <td>0.045495</td>\n",
       "    </tr>\n",
       "    <tr>\n",
       "      <th>8</th>\n",
       "      <td>ambition</td>\n",
       "      <td>0.040995</td>\n",
       "    </tr>\n",
       "  </tbody>\n",
       "</table>\n",
       "</div>"
      ],
      "text/plain": [
       "                 Feature  Importance\n",
       "9     attractive_partner    0.095586\n",
       "12         funny_partner    0.091027\n",
       "14   interests_correlate    0.081291\n",
       "1                  age_o    0.058456\n",
       "2                  d_age    0.049997\n",
       "10       sincere_partner    0.048337\n",
       "0                    age    0.046691\n",
       "11  intelligence_partner    0.046375\n",
       "13      ambition_partner    0.045495\n",
       "8               ambition    0.040995"
      ]
     },
     "execution_count": 79,
     "metadata": {},
     "output_type": "execute_result"
    }
   ],
   "source": [
    "# dataframe with the importance of each feature\n",
    "\n",
    "importance = model_tree1.feature_importances_\n",
    "pd.DataFrame(list(zip(X.columns,importance)), columns=['Feature', 'Importance']).sort_values(by=['Importance'], ascending=False).head(10)"
   ]
  },
  {
   "cell_type": "markdown",
   "metadata": {},
   "source": [
    "Here we see that with a max_depth of 100 and n_estimators (number of trees in the forest) being 100, we already reached an accuracy score of ~0.7668 (note this value could be different in different executions due to the nature of random forest), which is all time high, and we plan to tune those hyper-parameters by applying grid search to multiple different combinations of hyper-parameters."
   ]
  },
  {
   "cell_type": "markdown",
   "metadata": {},
   "source": [
    "### Apply Random Forest Model to All Features with Tuned Parameters"
   ]
  },
  {
   "cell_type": "code",
   "execution_count": 80,
   "metadata": {},
   "outputs": [],
   "source": [
    "from sklearn.model_selection import GridSearchCV"
   ]
  },
  {
   "cell_type": "code",
   "execution_count": 81,
   "metadata": {},
   "outputs": [
    {
     "name": "stdout",
     "output_type": "stream",
     "text": [
      "Best hyperparameters: {'max_depth': 50, 'n_estimators': 600}\n",
      "Best score: 0.7436297820197183\n"
     ]
    }
   ],
   "source": [
    "# Note that this cell will take a few minutes to run\n",
    "\n",
    "#%%time\n",
    "\n",
    "model = RandomForestClassifier()\n",
    "\n",
    "# define the hyperparameters to search\n",
    "param_grid = {\n",
    "    'n_estimators': [50, 100, 200, 300, 400, 500, 600, 700, 800],\n",
    "    'max_depth': [10, 50, 100, 150, 200, 250, 300, 350]\n",
    "}\n",
    "\n",
    "grid_search = GridSearchCV(model, param_grid, cv=5, scoring='accuracy')\n",
    "grid_search.fit(X_train, y_train)\n",
    "\n",
    "# print the best hyperparameters and corresponding score\n",
    "print(\"Best hyperparameters:\", grid_search.best_params_)\n",
    "print(\"Best score:\", grid_search.best_score_)"
   ]
  },
  {
   "cell_type": "markdown",
   "metadata": {},
   "source": [
    "Through our grid-search process, we aim to find out that our Random Forest model performs best with n_estimators=700 and max_depth=150, thus we will apply those to actual model and check the final prediction on test sample."
   ]
  },
  {
   "cell_type": "code",
   "execution_count": 82,
   "metadata": {},
   "outputs": [
    {
     "data": {
      "text/plain": [
       "RandomForestClassifier(max_depth=150, n_estimators=700, random_state=80)"
      ]
     },
     "execution_count": 82,
     "metadata": {},
     "output_type": "execute_result"
    }
   ],
   "source": [
    "# initialize a Random Forest classifier model\n",
    "model_tree = RandomForestClassifier(n_estimators=700, max_depth=150, random_state=80)\n",
    "\n",
    "model_tree.fit(X_train, y_train)"
   ]
  },
  {
   "cell_type": "code",
   "execution_count": 83,
   "metadata": {},
   "outputs": [
    {
     "name": "stdout",
     "output_type": "stream",
     "text": [
      "The accuracy score is 0.7627345844504021\n"
     ]
    }
   ],
   "source": [
    "# make predictions and get accuracy score\n",
    "y_pred = model_tree.predict(X_test)\n",
    "score = sklearn.metrics.accuracy_score(y_test, y_pred)\n",
    "print(\"The accuracy score is \"+ str(score))"
   ]
  },
  {
   "cell_type": "code",
   "execution_count": 84,
   "metadata": {},
   "outputs": [
    {
     "data": {
      "text/html": [
       "<div>\n",
       "<style scoped>\n",
       "    .dataframe tbody tr th:only-of-type {\n",
       "        vertical-align: middle;\n",
       "    }\n",
       "\n",
       "    .dataframe tbody tr th {\n",
       "        vertical-align: top;\n",
       "    }\n",
       "\n",
       "    .dataframe thead th {\n",
       "        text-align: right;\n",
       "    }\n",
       "</style>\n",
       "<table border=\"1\" class=\"dataframe\">\n",
       "  <thead>\n",
       "    <tr style=\"text-align: right;\">\n",
       "      <th></th>\n",
       "      <th>Feature</th>\n",
       "      <th>Importance</th>\n",
       "    </tr>\n",
       "  </thead>\n",
       "  <tbody>\n",
       "    <tr>\n",
       "      <th>9</th>\n",
       "      <td>attractive_partner</td>\n",
       "      <td>0.095699</td>\n",
       "    </tr>\n",
       "    <tr>\n",
       "      <th>12</th>\n",
       "      <td>funny_partner</td>\n",
       "      <td>0.090317</td>\n",
       "    </tr>\n",
       "    <tr>\n",
       "      <th>14</th>\n",
       "      <td>interests_correlate</td>\n",
       "      <td>0.081763</td>\n",
       "    </tr>\n",
       "    <tr>\n",
       "      <th>1</th>\n",
       "      <td>age_o</td>\n",
       "      <td>0.057862</td>\n",
       "    </tr>\n",
       "    <tr>\n",
       "      <th>2</th>\n",
       "      <td>d_age</td>\n",
       "      <td>0.050901</td>\n",
       "    </tr>\n",
       "    <tr>\n",
       "      <th>11</th>\n",
       "      <td>intelligence_partner</td>\n",
       "      <td>0.047318</td>\n",
       "    </tr>\n",
       "    <tr>\n",
       "      <th>10</th>\n",
       "      <td>sincere_partner</td>\n",
       "      <td>0.047264</td>\n",
       "    </tr>\n",
       "    <tr>\n",
       "      <th>0</th>\n",
       "      <td>age</td>\n",
       "      <td>0.046716</td>\n",
       "    </tr>\n",
       "    <tr>\n",
       "      <th>13</th>\n",
       "      <td>ambition_partner</td>\n",
       "      <td>0.045927</td>\n",
       "    </tr>\n",
       "    <tr>\n",
       "      <th>8</th>\n",
       "      <td>ambition</td>\n",
       "      <td>0.040195</td>\n",
       "    </tr>\n",
       "  </tbody>\n",
       "</table>\n",
       "</div>"
      ],
      "text/plain": [
       "                 Feature  Importance\n",
       "9     attractive_partner    0.095699\n",
       "12         funny_partner    0.090317\n",
       "14   interests_correlate    0.081763\n",
       "1                  age_o    0.057862\n",
       "2                  d_age    0.050901\n",
       "11  intelligence_partner    0.047318\n",
       "10       sincere_partner    0.047264\n",
       "0                    age    0.046716\n",
       "13      ambition_partner    0.045927\n",
       "8               ambition    0.040195"
      ]
     },
     "execution_count": 84,
     "metadata": {},
     "output_type": "execute_result"
    }
   ],
   "source": [
    "# dataframe with the importance of each feature\n",
    "importance = model_tree.feature_importances_\n",
    "pd.DataFrame(list(zip(X.columns,importance)), columns=['Feature', 'Importance']).sort_values(by=['Importance'], ascending=False).head(10)"
   ]
  },
  {
   "cell_type": "markdown",
   "metadata": {},
   "source": [
    "Our final Random Forest model gives us accuracy score-0.7668, which is not too impressive compared our initial random forest model, and we think better feature selection may lead to an increase to our model's performance. Nonetheless, it's not difficult to see that Random Forest model generally performs better on classification task like this, which includes high-dimensional data, as compared to our intial models, i.e Logistic Regression and regular Decision Tree."
   ]
  },
  {
   "cell_type": "markdown",
   "metadata": {},
   "source": [
    "# Ethics and Privacy"
   ]
  },
  {
   "cell_type": "markdown",
   "metadata": {},
   "source": [
    "Our dataset was collected from a survey of individuals who consented to taking the survey and having their results collected, so our source is ethical. In the survey, the participants were also allowed to just fill a question in blank if they were uncomfortable with answering something. Within our data, there is no information that can be personally identifiable or otherwise ethically bad. There were no names corresponding to the data, as they were just gender, ratings, demographic, age, preferences, and a few other values. Thus, our data sources were ethical and there shouldn't be any privacy concerns.\n",
    "\n",
    "Within our analysis and tests, we did not introduce any new data or information that could cause privacy concerns. Ethics-wise, our project contents shouldn't have issues either. The dataset we used was cited and packages we imported were all open-source Python libraries, so copyright and plagiarism should not be a problem. Our hypothesis and analysis does not touch on sensitive topics either, as we just observe and analyze multiple forms of statistical data without contributing to things such as prejudices.\n",
    "\n",
    "The only concern with our project is the originally biased nature of the dataset we used. If we use the dataset without any alterations, there would be a significant disparity in the age of people who are represented in our data. To address this, we made our hypothesis so that it only concerns people within the age from 20-30, which is where the majority of our dataset's people are in. Then, we cut our data so it only included people within the range 20-30. Other demographic distribitions like age and race are relatively even, so it doesn't need to be addressed to keep an ethical dataset that correctly represents those mentioned in the hypothesis."
   ]
  },
  {
   "cell_type": "markdown",
   "metadata": {},
   "source": [
    "# Conclusion & Discussion"
   ]
  },
  {
   "cell_type": "markdown",
   "metadata": {},
   "source": [
    "In this report, our goal was to use a speed dating dataset to help identify which factors are most important in determining compatability/a match between two individuals in their 20s. Our dataset consisted on numerous variables, including race, gender, hobbies, attribute scores, field of work, etc. We removed the variables that weren't as relevant to our question and assesed their correlation to our dependent variable 'match'. This variable is binary and was determined by the product of the two individuals decision - if both people submitted a '1' then the match was made, otherwise not. \n",
    "\n",
    "In our background research, we had found that factors like religion, race, income, and ethnicity play little importance in determining compatability for people in their 20s and instead, attractiveness and intelligence were generally the key predictors. Our own research appears to show a similar trend. For example, when we graphed the percentage of same-race pairs that matched with the percentage of different-race pairs that matched, there was a very small difference. Similarly, when we assessed the percentage of people that matched based on occupational field, the percentages were all very close and there wasn't any field that had a significantly high percentage of matches. \n",
    "\n",
    "On the other hand, when we graphed the attributes, we noticed that pairs that matched generally scored similarly on all five attributes (intelligence, funny, attractiveness, sincerity, and ambition). We ran a t-test to confirm if our results were significant and they were. This isn't a surprise since people will usually connect more with someone that has similar characteristics to them. And because matches only occur when both individuals are interested, one person usually won't be a lot more intelligent or ambitious than the other. In regards to interests, we initially got a low correlation value between the correlated interet variable and matches, but later saw in our models that it was one of the top 5 predictors. This suggests that having shared interests alone isn't sufficient for a match, they need to connect over the attributes as well. \n",
    "\n",
    "Towards the end of our study, we applied various classification models to see if it was possible to reach a high prediction accuracy. We used a logistic regression, decision tree, and random forest model, from which the random forest model gave us the highest accuracy. However, it was still only at 0.76, which suggests that predicting a match/compatibility is an extremely complex affair and can't be easily done. Many factors go into a decision and each individual has different priorities when looking for a partner so it might be impossible to make any generalizations when our responders are so diverse. Despite that, we did find that across all the models, the most important features were: the percieved attractiveness of the partner, the percieved sense of humor of the partner, and how highly interests correlated. \n",
    "\n",
    "While there's plenty of room for improvement and additions to our research, I think these findings confirm some of our intuitions about the dating work and what we look for in a partner. I think many of us, ultimately, want a partner who we're attracted to who likes doing the things we do and can make us laugh. "
   ]
  },
  {
   "cell_type": "markdown",
   "metadata": {},
   "source": [
    "# Contributions"
   ]
  },
  {
   "cell_type": "markdown",
   "metadata": {},
   "source": [
    "Avantika Goyal: Contributed to initial planning for the background and purpose of the project. Worked on background research, analyzed the attributes and ran the t-test, helped with model-building and determining the importance of factors, and wrote the conclusion and analysis.\n",
    "\n",
    "Akhilan Gurumoorthy: Contributed to the initial planning for the expectations and ethics part. Did data analysis on match percentage, field, and interests. Helped resolve github merge conflicts. Contributed to the final presentation and video.\n",
    "\n",
    "Derek Ma: Added research question for initial planning stage. Lead the planning and scheduling of our group and assigning roles for later tasks. Worked on the logistic regression model and analysis. Contributed to the final presentation and video.\n",
    "\n",
    "Weston Yang: Did the hypothesis and data analysis for intial planning. Data wrangled dataset to reduce bias by age and field. Did analysis on the connections between gender, age, race and field and their distributions. Helped resolve github merge conflict. Did the ethics concerns and team contribution parts for final submission.\n",
    "\n",
    "Yu Huang: Researching datasets and potential topics. Initial data wrangling for the dataset and analyzing part of age and gender distributions. Looked for outliers within datasets and analyzed those results. Worked on the machine learning model with the decision tree classifier and random forest models."
   ]
  }
 ],
 "metadata": {
  "kernelspec": {
   "display_name": "Python 3 (ipykernel)",
   "language": "python",
   "name": "python3"
  },
  "language_info": {
   "codemirror_mode": {
    "name": "ipython",
    "version": 3
   },
   "file_extension": ".py",
   "mimetype": "text/x-python",
   "name": "python",
   "nbconvert_exporter": "python",
   "pygments_lexer": "ipython3",
   "version": "3.9.12"
  },
  "vscode": {
   "interpreter": {
    "hash": "5f726eecb098794b5e0b2c0c2e4effde657be315cee3ffd780643c2f62a99293"
   }
  }
 },
 "nbformat": 4,
 "nbformat_minor": 2
}
